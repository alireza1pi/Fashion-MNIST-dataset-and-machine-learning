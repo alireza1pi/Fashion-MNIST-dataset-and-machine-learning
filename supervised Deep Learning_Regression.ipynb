{
 "cells": [
  {
   "cell_type": "code",
   "execution_count": null,
   "id": "59194287",
   "metadata": {},
   "outputs": [],
   "source": [
    "# Regression task"
   ]
  },
  {
   "cell_type": "code",
   "execution_count": 1,
   "id": "551c8019",
   "metadata": {},
   "outputs": [],
   "source": [
    "#Libraries\n",
    "import pandas as pd\n",
    "import numpy as np\n",
    "import matplotlib.pyplot as plt\n",
    "from tqdm import tqdm\n",
    "import torch\n",
    "import torch.nn as nn\n",
    "import torch.optim as optim\n",
    "from torch.utils.data import Dataset, DataLoader\n",
    "from torchvision import transforms\n",
    "import torch.nn.functional as F\n",
    "import torch.utils.data as Data\n",
    "import torch\n",
    "from torchvision import models\n",
    "from torchsummary import summary\n",
    "from sklearn.model_selection import KFold\n"
   ]
  },
  {
   "cell_type": "code",
   "execution_count": 2,
   "id": "66e688ad",
   "metadata": {},
   "outputs": [],
   "source": [
    "class CsvDataset(Dataset):\n",
    "\n",
    "    def __init__(self, dataframe, transform=None):\n",
    "        # read the dataframe file\n",
    "        self.transform = transform\n",
    "        self.data = dataframe\n",
    "        # get columns names\n",
    "        self.names = np.array( dataframe.columns )\n",
    "        \n",
    "    def __len__(self):\n",
    "        # The length of the dataset is simply the length of the self.data list\n",
    "        return len(self.data)\n",
    "\n",
    "    def __getitem__(self, idx):\n",
    "        # get item given idx, following code above\n",
    "        sample = ( self.data.iloc[idx][self.names[0]], self.data.iloc[idx][self.names[1]] )\n",
    "        if self.transform:\n",
    "            sample = self.transform(sample)\n",
    "        return sample\n",
    "\n",
    "\n",
    "    \n",
    "class ToTensor(object):\n",
    "    def __call__(self, sample):\n",
    "        x, y = sample\n",
    "        return (torch.tensor([x]).float(),\n",
    "                torch.tensor([y]).float())\n",
    "    \n",
    "\n",
    "    \n",
    "    \n",
    "    \n",
    "class Model(nn.Module):\n",
    " \n",
    "    def __init__(self, Ninp, Nhi1, Nhi2, Nout, drop=0.15):\n",
    "        #initialize\n",
    "        super(Model, self).__init__()       \n",
    "        #1st hidden layer\n",
    "        self.hl1 = nn.Linear(Ninp, Nhi1)  \n",
    "        #1st dropout\n",
    "        self.dr = nn.Dropout(drop)     \n",
    "        #2nd hidden layer\n",
    "        self.hl2 = nn.Linear(Nhi1, Nhi2)\n",
    "        #output layer\n",
    "        self.out = nn.Linear(Nhi2, Nout)  \n",
    "        #activation function\n",
    "        self.act = nn.ReLU()              \n",
    "    \n",
    "    def forward(self, x):\n",
    "    #initialize vector containing training losses\n",
    "        x_1 = self.act(self.hl1(x))     \n",
    "        x_1 = self.dr(x_1)             \n",
    "        x_2 = self.act(self.hl2(x_1))   \n",
    "        x_2 = self.dr(x_2)             \n",
    "        x   = self.out(x_2)            \n",
    "        \n",
    "        return x\n",
    "    \n",
    "    def train_step(self, train_loader, optimizer, loss_func, device, epoch):\n",
    "        \n",
    "        train_loss = [] \n",
    "        self.train()     \n",
    "        \n",
    "        for ii, s_batch in enumerate(train_loader):\n",
    "            #import data, move to device \n",
    "            x_batch = s_batch[0].to(device) \n",
    "            #import labels, move to device\n",
    "            label_b = s_batch[1].to(device)       \n",
    "            \n",
    "            for_out = self.forward(x_batch)      \n",
    "            \n",
    "            tr_loss = loss_func(for_out, label_b) \n",
    "            #back-propagation\n",
    "            self.zero_grad()                      \n",
    "            tr_loss.backward()\n",
    "            \n",
    "            optimizer.step()                      \n",
    "            #save loss for batch\n",
    "            ba_loss = tr_loss.detach().cpu().numpy()\n",
    "            train_loss.append(ba_loss)            \n",
    "            \n",
    "        return train_loss\n",
    "    \n",
    "    \n",
    "    \n",
    "    def val_step(self, valid_loader, loss_func, device):\n",
    "        #initialize vector containing validation losses\n",
    "        val_loss = []\n",
    "        #set evaluation mode\n",
    "        self.eval()   \n",
    "        \n",
    "        with torch.no_grad():                      \n",
    "            for s_batch in valid_loader:\n",
    "                \n",
    "                x_batch = s_batch[0].to(device)       \n",
    "                label_b = s_batch[1].to(device)      \n",
    "            \n",
    "                for_out = self.forward(x_batch)       \n",
    "\n",
    "                va_loss = loss_func(for_out, label_b) \n",
    "\n",
    "                ba_loss = va_loss.detach().cpu().numpy()\n",
    "                val_loss.append(ba_loss)          \n",
    "        \n",
    "        return val_loss\n",
    "    \n",
    "    def fitting(self, train_loader, val_loader, optimizer, loss_func, param):\n",
    "\n",
    "        train_loss_log = [] \n",
    "        val_loss_log = []\n",
    "        \n",
    "        for epoch in tqdm(range(param['num_epochs'])):\n",
    "            # Training\n",
    "            train_loss = self.train_step(train_loader, optimizer, loss_func, \n",
    "                                             param['device'], epoch)\n",
    "            # Compute and store average training loss\n",
    "            train_loss = np.mean(train_loss)\n",
    "            train_loss_log.append(train_loss)\n",
    "            \n",
    "            valid_loss = self.val_step(val_loader, loss_func, param['device'])\n",
    "            # Compute and store average validation loss\n",
    "            valid_loss = np.mean(valid_loss)\n",
    "            val_loss_log.append(valid_loss)\n",
    "    \n",
    "            \n",
    "        return train_loss_log, val_loss_log\n",
    "    \n",
    "    def predicting(self, data_loader, device):\n",
    "        #initialize vector containing predictions\n",
    "        predicts = [] \n",
    "        #set evaluation mode\n",
    "        self.eval()   \n",
    "        \n",
    "        with torch.no_grad(): \n",
    "            #disable gradient tracking\n",
    "            for s_batch in data_loader:\n",
    "                \n",
    "                x_batch = s_batch[0].to(device) \n",
    "                \n",
    "                for_out = self.forward(x_batch) \n",
    "                outputs = for_out.cpu().numpy()\n",
    "                #save predictions\n",
    "                predicts.append(outputs)        \n",
    "        \n",
    "        return np.array(predicts)\n",
    "                \n",
    "    def testing(self, test_loader, loss_func, device):\n",
    "        #initialize vector containing accuracies\n",
    "        accuracy = [] \n",
    "        self.eval()  \n",
    "        \n",
    "        with torch.no_grad():                   \n",
    "            for s_batch in tqdm(test_loader):\n",
    "                \n",
    "                x_batch = s_batch[0].to(device)       \n",
    "                label_b = s_batch[1].to(device)       \n",
    "            \n",
    "                for_out = self.forward(x_batch)       \n",
    "                \n",
    "                te_loss = loss_func(for_out, label_b) \n",
    "                ba_loss = te_loss.detach().cpu().numpy()\n",
    "                \n",
    "                accuracy.append(ba_loss.mean())       \n",
    "        return np.array(accuracy).mean()\n",
    "        "
   ]
  },
  {
   "cell_type": "code",
   "execution_count": 3,
   "id": "d42e7e7e",
   "metadata": {},
   "outputs": [],
   "source": [
    "def random_params(params_dict):\n",
    "    selected_params = {}\n",
    "    for i in params_dict.keys():\n",
    "        selected_params[i] = np.random.choice( params_dict[i] )\n",
    "    return selected_params\n",
    "# Avoiding weight leakage\n",
    "def reset_weights(network):\n",
    "    for layer in network.children():\n",
    "        if hasattr(layer, 'reset_parameters'):\n",
    "            layer.reset_parameters()\n",
    "            \n",
    "# Cross validation method for selecting optimal parameters through random search,         \n",
    "# We divide the dataset into 5 folds for cross validation \n",
    "            \n",
    "def cross_validation(par_dict, dataset, num_folds=5, n_models=1):\n",
    " \n",
    "    model_params     = []\n",
    "    train_loss_log = []\n",
    "    val_loss_log   = []\n",
    "    \n",
    "    \n",
    "    for i in range(n_models):\n",
    "        # Define the K-fold Cross Validator\n",
    "        kf = KFold(num_folds, shuffle=True)\n",
    "        # random parameter selection \n",
    "        params = random_params(par_dict)\n",
    "        model_params.append(params)\n",
    "        # initialize support lists for losses on each k-fold\n",
    "        tr_loss_kfold = np.zeros( (num_folds, params['num_epochs']) )\n",
    "        va_loss_kfold = np.zeros( (num_folds, params['num_epochs']) )\n",
    "        \n",
    "        print('Model ', i+1)\n",
    "        print('Network parameters:', params)\n",
    "        \n",
    "        for f, (train_idx, val_idx) in enumerate(kf.split(dataset)):\n",
    "            \n",
    "            print('FOLD ', f+1)\n",
    "            \n",
    "            # sample elements in order to divide into validation/train datasets, build samplers.\n",
    "            train_subsampler = Data.SubsetRandomSampler(train_idx)\n",
    "            valid_subsampler = Data.SubsetRandomSampler(val_idx)\n",
    "            \n",
    "            b_size = int(params['batch_size'])\n",
    "            train_loader = Data.DataLoader(dataset, batch_size=b_size, \n",
    "                                           sampler=train_subsampler)\n",
    "\n",
    "            valid_loader = Data.DataLoader(dataset, batch_size=b_size, \n",
    "                                           sampler=valid_subsampler)    \n",
    "            # initialization of the net\n",
    "            Ninp, Nhi1, Nhi2, Nout = 1, params['Nhi1'], params['Nhi2'], 1\n",
    "            model = Model(Ninp, Nhi1, Nhi2, Nout, params['dropout']).to(params['device'])\n",
    "            model.apply(reset_weights)\n",
    "    # select and set up optimizer\n",
    "            if params['optimizer']=='sgd':\n",
    "                optimizer = optim.SGD(model.parameters(), lr=params['learning_rate'], momentum=0.9,\n",
    "                               weight_decay=params['reg_param'])\n",
    "            elif params['optimizer']=='adam':\n",
    "                optimizer = optim.Adam(model.parameters(), lr=params['learning_rate'], \n",
    "                                 weight_decay=params['reg_param'])\n",
    "            # training & validation \n",
    "            train_loss, val_loss = model.fitting(train_loader, valid_loader, optimizer, \n",
    "                                                          loss_func, params)\n",
    "            # store validation and train losses per fold\n",
    "            tr_loss_kfold[f, :] = train_loss \n",
    "            va_loss_kfold[f, :] = val_loss \n",
    "        # average loss on the k-folds\n",
    "        print(np.mean(np.array(va_loss_kfold)))\n",
    "        print(np.mean(np.array(tr_loss_kfold)))     \n",
    "        val_loss_log.append( np.mean(np.array(va_loss_kfold)))\n",
    "        train_loss_log.append( np.mean(np.array(tr_loss_kfold)) )\n",
    "                            \n",
    "        \n",
    "    return model_params, train_loss_log, val_loss_log"
   ]
  },
  {
   "cell_type": "code",
   "execution_count": 4,
   "id": "bfffcce3",
   "metadata": {},
   "outputs": [
    {
     "name": "stderr",
     "output_type": "stream",
     "text": [
      "--2022-08-28 13:38:58--  https://gitlab.dei.unipd.it/michieli/nnld-2021-22-lab-resources/-/raw/main/homework1/train_data.csv\n",
      "Resolving gitlab.dei.unipd.it (gitlab.dei.unipd.it)... 147.162.2.85\n",
      "Connecting to gitlab.dei.unipd.it (gitlab.dei.unipd.it)|147.162.2.85|:443... connected.\n",
      "HTTP request sent, awaiting response... 200 OK\n",
      "Length: 3776 (3.7K) [text/plain]\n",
      "Saving to: 'regression_dataset/train_data.csv.1'\n",
      "\n",
      "     0K ...                                                   100%  229K=0.02s\n",
      "\n",
      "2022-08-28 13:38:59 (229 KB/s) - 'regression_dataset/train_data.csv.1' saved [3776/3776]\n",
      "\n",
      "--2022-08-28 13:38:59--  https://gitlab.dei.unipd.it/michieli/nnld-2021-22-lab-resources/-/raw/main/homework1/test_data.csv\n",
      "Resolving gitlab.dei.unipd.it (gitlab.dei.unipd.it)... 147.162.2.85\n",
      "Connecting to gitlab.dei.unipd.it (gitlab.dei.unipd.it)|147.162.2.85|:443... connected.\n",
      "HTTP request sent, awaiting response... 200 OK\n",
      "Length: 3788 (3.7K) [text/plain]\n",
      "Saving to: 'regression_dataset/test_data.csv.1'\n",
      "\n",
      "     0K ...                                                   100%  225K=0.02s\n",
      "\n",
      "2022-08-28 13:39:00 (225 KB/s) - 'regression_dataset/test_data.csv.1' saved [3788/3788]\n",
      "\n"
     ]
    }
   ],
   "source": [
    "!wget -P regression_dataset https://gitlab.dei.unipd.it/michieli/nnld-2021-22-lab-resources/-/raw/main/homework1/train_data.csv\n",
    "!wget -P regression_dataset https://gitlab.dei.unipd.it/michieli/nnld-2021-22-lab-resources/-/raw/main/homework1/test_data.csv "
   ]
  },
  {
   "cell_type": "code",
   "execution_count": 6,
   "id": "ab31f435",
   "metadata": {},
   "outputs": [
    {
     "data": {
      "image/png": "[encoded data removed]",
      "text/plain": [
       "<Figure size 576x432 with 1 Axes>"
      ]
     },
     "metadata": {
      "needs_background": "light"
     },
     "output_type": "display_data"
    }
   ],
   "source": [
    "train_df = pd.read_csv('regression_dataset/train_data.csv')\n",
    "test_df  = pd.read_csv('regression_dataset/test_data.csv')\n",
    "fig = plt.figure(figsize=(8,6))\n",
    "plt.scatter(train_df.input, train_df.label, label='Training points')\n",
    "plt.xlabel('input')\n",
    "plt.ylabel('label')\n",
    "plt.legend()\n",
    "plt.show()"
   ]
  },
  {
   "cell_type": "code",
   "execution_count": 8,
   "id": "dc26209d",
   "metadata": {},
   "outputs": [],
   "source": [
    "train_dataset = CsvDataset(train_df, transform=ToTensor())\n",
    "test_dataset  = CsvDataset(test_df, transform=ToTensor())\n",
    "\n",
    "train_dataloader = DataLoader(train_dataset, batch_size=20, shuffle=True, num_workers=0)\n",
    "test_dataloader  = DataLoader(test_dataset, batch_size=len(test_dataset), shuffle=False, num_workers=0)"
   ]
  },
  {
   "cell_type": "code",
   "execution_count": 9,
   "id": "5100bdd6",
   "metadata": {},
   "outputs": [
    {
     "name": "stdout",
     "output_type": "stream",
     "text": [
      "Model(\n",
      "  (hl1): Linear(in_features=1, out_features=50, bias=True)\n",
      "  (dr): Dropout(p=0.02, inplace=False)\n",
      "  (hl2): Linear(in_features=50, out_features=100, bias=True)\n",
      "  (out): Linear(in_features=100, out_features=1, bias=True)\n",
      "  (act): ReLU()\n",
      ")\n"
     ]
    },
    {
     "name": "stderr",
     "output_type": "stream",
     "text": [
      "100%|████████████████████████████████████████████████████████████████████████████████| 200/200 [00:58<00:00,  3.43it/s]\n"
     ]
    }
   ],
   "source": [
    "Ninp = 1\n",
    "Nhi1 = 50\n",
    "Nhi2 = 100\n",
    "Nout = 1\n",
    "\n",
    "model = Model(Ninp, Nhi1, Nhi2, Nout, 0.02)\n",
    "print(model)\n",
    "\n",
    "optimizer = optim.Adam(model.parameters(), lr=5e-4)\n",
    "loss_func = nn.MSELoss()  \n",
    "device = torch.device(\"cuda\") if torch.cuda.is_available() else torch.device(\"cpu\")\n",
    "                               \n",
    "params = {'num_epochs': 200, 'device': device}\n",
    "\n",
    "train_loss, val_loss = model.fitting(train_dataloader, test_dataloader, optimizer, loss_func, params)"
   ]
  },
  {
   "cell_type": "code",
   "execution_count": 13,
   "id": "ce87641d",
   "metadata": {},
   "outputs": [
    {
     "data": {
      "text/plain": [
       "<matplotlib.legend.Legend at 0x18211d0b108>"
      ]
     },
     "execution_count": 13,
     "metadata": {},
     "output_type": "execute_result"
    },
    {
     "data": {
      "image/png": "[encoded data removed]",
      "text/plain": [
       "<Figure size 720x432 with 1 Axes>"
      ]
     },
     "metadata": {
      "needs_background": "light"
     },
     "output_type": "display_data"
    }
   ],
   "source": [
    "fig, ax = plt.subplots(figsize=(10,6))\n",
    "\n",
    "ax.set_xlabel('Epoch', fontsize=24)\n",
    "ax.set_ylabel('Loss', fontsize=24)\n",
    "\n",
    "plt.plot(train_loss, label='train')\n",
    "plt.plot(val_loss, label='test')\n",
    "plt.legend(fontsize=16)"
   ]
  },
  {
   "cell_type": "code",
   "execution_count": 14,
   "id": "e4ef9e7b",
   "metadata": {},
   "outputs": [
    {
     "data": {
      "image/png": "[encoded data removed]",
      "text/plain": [
       "<Figure size 720x432 with 1 Axes>"
      ]
     },
     "metadata": {
      "needs_background": "light"
     },
     "output_type": "display_data"
    }
   ],
   "source": [
    "x = torch.unsqueeze(torch.tensor(train_df.input), dim=1).float()\n",
    "y = torch.unsqueeze(torch.tensor(train_df.label), dim=1).float()\n",
    "\n",
    "x_pred = torch.linspace(-5,5,1000)\n",
    "x_pred = x_pred.to(device)\n",
    "x_pred = x_pred.unsqueeze(-1)\n",
    "\n",
    "model.to(device)\n",
    "\n",
    "fig, ax = plt.subplots(figsize=(10,6))\n",
    "\n",
    "plt.cla()\n",
    "ax.set_title('Regression Analysis', fontsize=35)\n",
    "ax.set_xlabel('x', fontsize=24)\n",
    "ax.set_ylabel('f(x)', fontsize=24)\n",
    "ax.set_xlim(-5, 5)\n",
    "ax.set_ylim(-5, 10)\n",
    "\n",
    "\n",
    "\n",
    "ax.scatter(train_df.input, train_df.label, color = 'y',label='Training points')\n",
    "\n",
    "with torch.no_grad():\n",
    "    prediction = model(x)     \n",
    "with torch.no_grad():\n",
    "    y_pred = model(x_pred)\n",
    "\n",
    "ax.plot(x_pred.squeeze().cpu().numpy(), y_pred.squeeze().cpu().numpy(), 'b--',label='Predicted function')\n",
    "ax.scatter(x.data.numpy(), prediction.data.numpy(), color = 'r', marker = 'x', label='Predicted training points')\n",
    "plt.legend(loc='best')\n",
    "plt.savefig('test_fitting_2.png')\n",
    "plt.show()"
   ]
  },
  {
   "cell_type": "code",
   "execution_count": 10,
   "id": "dd34a889",
   "metadata": {},
   "outputs": [
    {
     "name": "stdout",
     "output_type": "stream",
     "text": [
      "Model  1\n",
      "Network parameters: {'device': device(type='cpu'), 'batch_size': 15, 'dropout': 0.01, 'num_epochs': 600, 'learning_rate': 0.001, 'optimizer': 'adam', 'Nhi1': 10, 'Nhi2': 100, 'reg_param': 0.0001}\n",
      "FOLD  1\n"
     ]
    },
    {
     "name": "stderr",
     "output_type": "stream",
     "text": [
      "100%|████████████████████████████████████████████████████████████████████████████████| 600/600 [01:55<00:00,  5.18it/s]\n"
     ]
    },
    {
     "name": "stdout",
     "output_type": "stream",
     "text": [
      "FOLD  2\n"
     ]
    },
    {
     "name": "stderr",
     "output_type": "stream",
     "text": [
      "100%|████████████████████████████████████████████████████████████████████████████████| 600/600 [01:52<00:00,  5.31it/s]\n"
     ]
    },
    {
     "name": "stdout",
     "output_type": "stream",
     "text": [
      "FOLD  3\n"
     ]
    },
    {
     "name": "stderr",
     "output_type": "stream",
     "text": [
      "100%|████████████████████████████████████████████████████████████████████████████████| 600/600 [01:53<00:00,  5.30it/s]\n"
     ]
    },
    {
     "name": "stdout",
     "output_type": "stream",
     "text": [
      "FOLD  4\n"
     ]
    },
    {
     "name": "stderr",
     "output_type": "stream",
     "text": [
      "100%|████████████████████████████████████████████████████████████████████████████████| 600/600 [01:55<00:00,  5.20it/s]\n"
     ]
    },
    {
     "name": "stdout",
     "output_type": "stream",
     "text": [
      "FOLD  5\n"
     ]
    },
    {
     "name": "stderr",
     "output_type": "stream",
     "text": [
      "100%|████████████████████████████████████████████████████████████████████████████████| 600/600 [01:52<00:00,  5.31it/s]\n"
     ]
    },
    {
     "name": "stdout",
     "output_type": "stream",
     "text": [
      "0.8390993796636661\n",
      "0.8130483589917421\n",
      "Model  2\n",
      "Network parameters: {'device': device(type='cpu'), 'batch_size': 15, 'dropout': 0.01, 'num_epochs': 400, 'learning_rate': 0.01, 'optimizer': 'adam', 'Nhi1': 10, 'Nhi2': 200, 'reg_param': 0.0005}\n",
      "FOLD  1\n"
     ]
    },
    {
     "name": "stderr",
     "output_type": "stream",
     "text": [
      "100%|████████████████████████████████████████████████████████████████████████████████| 400/400 [01:18<00:00,  5.08it/s]\n"
     ]
    },
    {
     "name": "stdout",
     "output_type": "stream",
     "text": [
      "FOLD  2\n"
     ]
    },
    {
     "name": "stderr",
     "output_type": "stream",
     "text": [
      "100%|████████████████████████████████████████████████████████████████████████████████| 400/400 [01:17<00:00,  5.18it/s]\n"
     ]
    },
    {
     "name": "stdout",
     "output_type": "stream",
     "text": [
      "FOLD  3\n"
     ]
    },
    {
     "name": "stderr",
     "output_type": "stream",
     "text": [
      "100%|████████████████████████████████████████████████████████████████████████████████| 400/400 [01:19<00:00,  5.01it/s]\n"
     ]
    },
    {
     "name": "stdout",
     "output_type": "stream",
     "text": [
      "FOLD  4\n"
     ]
    },
    {
     "name": "stderr",
     "output_type": "stream",
     "text": [
      "100%|████████████████████████████████████████████████████████████████████████████████| 400/400 [01:15<00:00,  5.33it/s]\n"
     ]
    },
    {
     "name": "stdout",
     "output_type": "stream",
     "text": [
      "FOLD  5\n"
     ]
    },
    {
     "name": "stderr",
     "output_type": "stream",
     "text": [
      "100%|████████████████████████████████████████████████████████████████████████████████| 400/400 [01:15<00:00,  5.27it/s]\n"
     ]
    },
    {
     "name": "stdout",
     "output_type": "stream",
     "text": [
      "0.4977428485378623\n",
      "0.46447004649788143\n",
      "Model  3\n",
      "Network parameters: {'device': device(type='cpu'), 'batch_size': 15, 'dropout': 0.01, 'num_epochs': 600, 'learning_rate': 0.01, 'optimizer': 'sgd', 'Nhi1': 20, 'Nhi2': 300, 'reg_param': 0.0005}\n",
      "FOLD  1\n"
     ]
    },
    {
     "name": "stderr",
     "output_type": "stream",
     "text": [
      "100%|████████████████████████████████████████████████████████████████████████████████| 600/600 [01:46<00:00,  5.63it/s]\n"
     ]
    },
    {
     "name": "stdout",
     "output_type": "stream",
     "text": [
      "FOLD  2\n"
     ]
    },
    {
     "name": "stderr",
     "output_type": "stream",
     "text": [
      "100%|████████████████████████████████████████████████████████████████████████████████| 600/600 [01:46<00:00,  5.66it/s]\n"
     ]
    },
    {
     "name": "stdout",
     "output_type": "stream",
     "text": [
      "FOLD  3\n"
     ]
    },
    {
     "name": "stderr",
     "output_type": "stream",
     "text": [
      "100%|████████████████████████████████████████████████████████████████████████████████| 600/600 [01:44<00:00,  5.73it/s]\n"
     ]
    },
    {
     "name": "stdout",
     "output_type": "stream",
     "text": [
      "FOLD  4\n"
     ]
    },
    {
     "name": "stderr",
     "output_type": "stream",
     "text": [
      "100%|████████████████████████████████████████████████████████████████████████████████| 600/600 [01:44<00:00,  5.75it/s]\n"
     ]
    },
    {
     "name": "stdout",
     "output_type": "stream",
     "text": [
      "FOLD  5\n"
     ]
    },
    {
     "name": "stderr",
     "output_type": "stream",
     "text": [
      "100%|████████████████████████████████████████████████████████████████████████████████| 600/600 [01:43<00:00,  5.80it/s]\n"
     ]
    },
    {
     "name": "stdout",
     "output_type": "stream",
     "text": [
      "1.1615768860528866\n",
      "1.2561579204102358\n",
      "Model  4\n",
      "Network parameters: {'device': device(type='cpu'), 'batch_size': 5, 'dropout': 0.03, 'num_epochs': 600, 'learning_rate': 0.001, 'optimizer': 'adam', 'Nhi1': 10, 'Nhi2': 200, 'reg_param': 0.0005}\n",
      "FOLD  1\n"
     ]
    },
    {
     "name": "stderr",
     "output_type": "stream",
     "text": [
      "100%|████████████████████████████████████████████████████████████████████████████████| 600/600 [02:51<00:00,  3.50it/s]\n"
     ]
    },
    {
     "name": "stdout",
     "output_type": "stream",
     "text": [
      "FOLD  2\n"
     ]
    },
    {
     "name": "stderr",
     "output_type": "stream",
     "text": [
      "100%|████████████████████████████████████████████████████████████████████████████████| 600/600 [02:49<00:00,  3.54it/s]\n"
     ]
    },
    {
     "name": "stdout",
     "output_type": "stream",
     "text": [
      "FOLD  3\n"
     ]
    },
    {
     "name": "stderr",
     "output_type": "stream",
     "text": [
      "100%|████████████████████████████████████████████████████████████████████████████████| 600/600 [02:48<00:00,  3.56it/s]\n"
     ]
    },
    {
     "name": "stdout",
     "output_type": "stream",
     "text": [
      "FOLD  4\n"
     ]
    },
    {
     "name": "stderr",
     "output_type": "stream",
     "text": [
      "100%|████████████████████████████████████████████████████████████████████████████████| 600/600 [02:47<00:00,  3.58it/s]\n"
     ]
    },
    {
     "name": "stdout",
     "output_type": "stream",
     "text": [
      "FOLD  5\n"
     ]
    },
    {
     "name": "stderr",
     "output_type": "stream",
     "text": [
      "100%|████████████████████████████████████████████████████████████████████████████████| 600/600 [02:50<00:00,  3.51it/s]\n"
     ]
    },
    {
     "name": "stdout",
     "output_type": "stream",
     "text": [
      "0.5943984972238541\n",
      "0.5814479804585377\n",
      "Model  5\n",
      "Network parameters: {'device': device(type='cpu'), 'batch_size': 10, 'dropout': 0.05, 'num_epochs': 400, 'learning_rate': 0.001, 'optimizer': 'adam', 'Nhi1': 10, 'Nhi2': 100, 'reg_param': 0.0003}\n",
      "FOLD  1\n"
     ]
    },
    {
     "name": "stderr",
     "output_type": "stream",
     "text": [
      "100%|████████████████████████████████████████████████████████████████████████████████| 400/400 [01:21<00:00,  4.91it/s]\n"
     ]
    },
    {
     "name": "stdout",
     "output_type": "stream",
     "text": [
      "FOLD  2\n"
     ]
    },
    {
     "name": "stderr",
     "output_type": "stream",
     "text": [
      "100%|████████████████████████████████████████████████████████████████████████████████| 400/400 [01:25<00:00,  4.67it/s]\n"
     ]
    },
    {
     "name": "stdout",
     "output_type": "stream",
     "text": [
      "FOLD  3\n"
     ]
    },
    {
     "name": "stderr",
     "output_type": "stream",
     "text": [
      "100%|████████████████████████████████████████████████████████████████████████████████| 400/400 [01:23<00:00,  4.78it/s]\n"
     ]
    },
    {
     "name": "stdout",
     "output_type": "stream",
     "text": [
      "FOLD  4\n"
     ]
    },
    {
     "name": "stderr",
     "output_type": "stream",
     "text": [
      "100%|████████████████████████████████████████████████████████████████████████████████| 400/400 [01:23<00:00,  4.81it/s]\n"
     ]
    },
    {
     "name": "stdout",
     "output_type": "stream",
     "text": [
      "FOLD  5\n"
     ]
    },
    {
     "name": "stderr",
     "output_type": "stream",
     "text": [
      "100%|████████████████████████████████████████████████████████████████████████████████| 400/400 [01:23<00:00,  4.81it/s]\n"
     ]
    },
    {
     "name": "stdout",
     "output_type": "stream",
     "text": [
      "0.9915039221122861\n",
      "1.0704452573210002\n",
      "Model  6\n",
      "Network parameters: {'device': device(type='cpu'), 'batch_size': 15, 'dropout': 0.05, 'num_epochs': 600, 'learning_rate': 0.001, 'optimizer': 'sgd', 'Nhi1': 20, 'Nhi2': 300, 'reg_param': 0.0001}\n",
      "FOLD  1\n"
     ]
    },
    {
     "name": "stderr",
     "output_type": "stream",
     "text": [
      "100%|████████████████████████████████████████████████████████████████████████████████| 600/600 [01:48<00:00,  5.51it/s]\n"
     ]
    },
    {
     "name": "stdout",
     "output_type": "stream",
     "text": [
      "FOLD  2\n"
     ]
    },
    {
     "name": "stderr",
     "output_type": "stream",
     "text": [
      "100%|████████████████████████████████████████████████████████████████████████████████| 600/600 [01:45<00:00,  5.68it/s]\n"
     ]
    },
    {
     "name": "stdout",
     "output_type": "stream",
     "text": [
      "FOLD  3\n"
     ]
    },
    {
     "name": "stderr",
     "output_type": "stream",
     "text": [
      "100%|████████████████████████████████████████████████████████████████████████████████| 600/600 [01:50<00:00,  5.41it/s]\n"
     ]
    },
    {
     "name": "stdout",
     "output_type": "stream",
     "text": [
      "FOLD  4\n"
     ]
    },
    {
     "name": "stderr",
     "output_type": "stream",
     "text": [
      "100%|████████████████████████████████████████████████████████████████████████████████| 600/600 [02:04<00:00,  4.82it/s]\n"
     ]
    },
    {
     "name": "stdout",
     "output_type": "stream",
     "text": [
      "FOLD  5\n"
     ]
    },
    {
     "name": "stderr",
     "output_type": "stream",
     "text": [
      "100%|████████████████████████████████████████████████████████████████████████████████| 600/600 [02:03<00:00,  4.87it/s]\n"
     ]
    },
    {
     "name": "stdout",
     "output_type": "stream",
     "text": [
      "0.6663330577189723\n",
      "0.7237470261454583\n",
      "Model  7\n",
      "Network parameters: {'device': device(type='cpu'), 'batch_size': 10, 'dropout': 0.03, 'num_epochs': 400, 'learning_rate': 0.01, 'optimizer': 'adam', 'Nhi1': 10, 'Nhi2': 300, 'reg_param': 0.0005}\n",
      "FOLD  1\n"
     ]
    },
    {
     "name": "stderr",
     "output_type": "stream",
     "text": [
      "100%|████████████████████████████████████████████████████████████████████████████████| 400/400 [01:41<00:00,  3.95it/s]\n"
     ]
    },
    {
     "name": "stdout",
     "output_type": "stream",
     "text": [
      "FOLD  2\n"
     ]
    },
    {
     "name": "stderr",
     "output_type": "stream",
     "text": [
      "100%|████████████████████████████████████████████████████████████████████████████████| 400/400 [01:36<00:00,  4.15it/s]\n"
     ]
    },
    {
     "name": "stdout",
     "output_type": "stream",
     "text": [
      "FOLD  3\n"
     ]
    },
    {
     "name": "stderr",
     "output_type": "stream",
     "text": [
      "100%|████████████████████████████████████████████████████████████████████████████████| 400/400 [01:38<00:00,  4.07it/s]\n"
     ]
    },
    {
     "name": "stdout",
     "output_type": "stream",
     "text": [
      "FOLD  4\n"
     ]
    },
    {
     "name": "stderr",
     "output_type": "stream",
     "text": [
      "100%|████████████████████████████████████████████████████████████████████████████████| 400/400 [01:38<00:00,  4.05it/s]\n"
     ]
    },
    {
     "name": "stdout",
     "output_type": "stream",
     "text": [
      "FOLD  5\n"
     ]
    },
    {
     "name": "stderr",
     "output_type": "stream",
     "text": [
      "100%|████████████████████████████████████████████████████████████████████████████████| 400/400 [01:38<00:00,  4.07it/s]\n"
     ]
    },
    {
     "name": "stdout",
     "output_type": "stream",
     "text": [
      "0.5273229339271783\n",
      "0.47658411853015425\n",
      "Model  8\n",
      "Network parameters: {'device': device(type='cpu'), 'batch_size': 5, 'dropout': 0.05, 'num_epochs': 400, 'learning_rate': 0.01, 'optimizer': 'adam', 'Nhi1': 10, 'Nhi2': 300, 'reg_param': 0.0003}\n",
      "FOLD  1\n"
     ]
    },
    {
     "name": "stderr",
     "output_type": "stream",
     "text": [
      "100%|████████████████████████████████████████████████████████████████████████████████| 400/400 [02:15<00:00,  2.96it/s]\n"
     ]
    },
    {
     "name": "stdout",
     "output_type": "stream",
     "text": [
      "FOLD  2\n"
     ]
    },
    {
     "name": "stderr",
     "output_type": "stream",
     "text": [
      "100%|████████████████████████████████████████████████████████████████████████████████| 400/400 [02:14<00:00,  2.97it/s]\n"
     ]
    },
    {
     "name": "stdout",
     "output_type": "stream",
     "text": [
      "FOLD  3\n"
     ]
    },
    {
     "name": "stderr",
     "output_type": "stream",
     "text": [
      "100%|████████████████████████████████████████████████████████████████████████████████| 400/400 [02:15<00:00,  2.95it/s]\n"
     ]
    },
    {
     "name": "stdout",
     "output_type": "stream",
     "text": [
      "FOLD  4\n"
     ]
    },
    {
     "name": "stderr",
     "output_type": "stream",
     "text": [
      "100%|████████████████████████████████████████████████████████████████████████████████| 400/400 [02:14<00:00,  2.98it/s]\n"
     ]
    },
    {
     "name": "stdout",
     "output_type": "stream",
     "text": [
      "FOLD  5\n"
     ]
    },
    {
     "name": "stderr",
     "output_type": "stream",
     "text": [
      "100%|████████████████████████████████████████████████████████████████████████████████| 400/400 [02:12<00:00,  3.02it/s]\n"
     ]
    },
    {
     "name": "stdout",
     "output_type": "stream",
     "text": [
      "0.5954488035216927\n",
      "0.5773170035257935\n",
      "Model  9\n",
      "Network parameters: {'device': device(type='cpu'), 'batch_size': 10, 'dropout': 0.01, 'num_epochs': 400, 'learning_rate': 0.01, 'optimizer': 'sgd', 'Nhi1': 20, 'Nhi2': 200, 'reg_param': 0.0005}\n",
      "FOLD  1\n"
     ]
    },
    {
     "name": "stderr",
     "output_type": "stream",
     "text": [
      "100%|████████████████████████████████████████████████████████████████████████████████| 400/400 [01:27<00:00,  4.59it/s]\n"
     ]
    },
    {
     "name": "stdout",
     "output_type": "stream",
     "text": [
      "FOLD  2\n"
     ]
    },
    {
     "name": "stderr",
     "output_type": "stream",
     "text": [
      "100%|████████████████████████████████████████████████████████████████████████████████| 400/400 [01:25<00:00,  4.68it/s]\n"
     ]
    },
    {
     "name": "stdout",
     "output_type": "stream",
     "text": [
      "FOLD  3\n"
     ]
    },
    {
     "name": "stderr",
     "output_type": "stream",
     "text": [
      "100%|████████████████████████████████████████████████████████████████████████████████| 400/400 [01:27<00:00,  4.60it/s]\n"
     ]
    },
    {
     "name": "stdout",
     "output_type": "stream",
     "text": [
      "FOLD  4\n"
     ]
    },
    {
     "name": "stderr",
     "output_type": "stream",
     "text": [
      "100%|████████████████████████████████████████████████████████████████████████████████| 400/400 [01:26<00:00,  4.62it/s]\n"
     ]
    },
    {
     "name": "stdout",
     "output_type": "stream",
     "text": [
      "FOLD  5\n"
     ]
    },
    {
     "name": "stderr",
     "output_type": "stream",
     "text": [
      "100%|████████████████████████████████████████████████████████████████████████████████| 400/400 [01:27<00:00,  4.59it/s]\n"
     ]
    },
    {
     "name": "stdout",
     "output_type": "stream",
     "text": [
      "2.3377996536791326\n",
      "2.449795990765095\n",
      "Model  10\n",
      "Network parameters: {'device': device(type='cpu'), 'batch_size': 10, 'dropout': 0.03, 'num_epochs': 600, 'learning_rate': 0.01, 'optimizer': 'adam', 'Nhi1': 20, 'Nhi2': 100, 'reg_param': 0.0005}\n",
      "FOLD  1\n"
     ]
    },
    {
     "name": "stderr",
     "output_type": "stream",
     "text": [
      "100%|████████████████████████████████████████████████████████████████████████████████| 600/600 [02:23<00:00,  4.18it/s]\n"
     ]
    },
    {
     "name": "stdout",
     "output_type": "stream",
     "text": [
      "FOLD  2\n"
     ]
    },
    {
     "name": "stderr",
     "output_type": "stream",
     "text": [
      "100%|████████████████████████████████████████████████████████████████████████████████| 600/600 [02:23<00:00,  4.17it/s]\n"
     ]
    },
    {
     "name": "stdout",
     "output_type": "stream",
     "text": [
      "FOLD  3\n"
     ]
    },
    {
     "name": "stderr",
     "output_type": "stream",
     "text": [
      "100%|████████████████████████████████████████████████████████████████████████████████| 600/600 [02:26<00:00,  4.10it/s]\n"
     ]
    },
    {
     "name": "stdout",
     "output_type": "stream",
     "text": [
      "FOLD  4\n"
     ]
    },
    {
     "name": "stderr",
     "output_type": "stream",
     "text": [
      "100%|████████████████████████████████████████████████████████████████████████████████| 600/600 [02:25<00:00,  4.13it/s]\n"
     ]
    },
    {
     "name": "stdout",
     "output_type": "stream",
     "text": [
      "FOLD  5\n"
     ]
    },
    {
     "name": "stderr",
     "output_type": "stream",
     "text": [
      "100%|████████████████████████████████████████████████████████████████████████████████| 600/600 [02:24<00:00,  4.14it/s]\n"
     ]
    },
    {
     "name": "stdout",
     "output_type": "stream",
     "text": [
      "0.49925481726229193\n",
      "0.4573294693281253\n",
      "Model  11\n",
      "Network parameters: {'device': device(type='cpu'), 'batch_size': 10, 'dropout': 0.03, 'num_epochs': 400, 'learning_rate': 0.001, 'optimizer': 'sgd', 'Nhi1': 20, 'Nhi2': 100, 'reg_param': 0.0005}\n",
      "FOLD  1\n"
     ]
    },
    {
     "name": "stderr",
     "output_type": "stream",
     "text": [
      "100%|████████████████████████████████████████████████████████████████████████████████| 400/400 [01:25<00:00,  4.68it/s]\n"
     ]
    },
    {
     "name": "stdout",
     "output_type": "stream",
     "text": [
      "FOLD  2\n"
     ]
    },
    {
     "name": "stderr",
     "output_type": "stream",
     "text": [
      "100%|████████████████████████████████████████████████████████████████████████████████| 400/400 [01:25<00:00,  4.67it/s]\n"
     ]
    },
    {
     "name": "stdout",
     "output_type": "stream",
     "text": [
      "FOLD  3\n"
     ]
    },
    {
     "name": "stderr",
     "output_type": "stream",
     "text": [
      "100%|████████████████████████████████████████████████████████████████████████████████| 400/400 [01:25<00:00,  4.68it/s]\n"
     ]
    },
    {
     "name": "stdout",
     "output_type": "stream",
     "text": [
      "FOLD  4\n"
     ]
    },
    {
     "name": "stderr",
     "output_type": "stream",
     "text": [
      "100%|████████████████████████████████████████████████████████████████████████████████| 400/400 [01:25<00:00,  4.69it/s]\n"
     ]
    },
    {
     "name": "stdout",
     "output_type": "stream",
     "text": [
      "FOLD  5\n"
     ]
    },
    {
     "name": "stderr",
     "output_type": "stream",
     "text": [
      "100%|████████████████████████████████████████████████████████████████████████████████| 400/400 [01:25<00:00,  4.67it/s]\n"
     ]
    },
    {
     "name": "stdout",
     "output_type": "stream",
     "text": [
      "0.7952897610105574\n",
      "0.8058827981501818\n",
      "Model  12\n",
      "Network parameters: {'device': device(type='cpu'), 'batch_size': 5, 'dropout': 0.03, 'num_epochs': 600, 'learning_rate': 0.01, 'optimizer': 'sgd', 'Nhi1': 50, 'Nhi2': 200, 'reg_param': 0.0003}\n",
      "FOLD  1\n"
     ]
    },
    {
     "name": "stderr",
     "output_type": "stream",
     "text": [
      "100%|████████████████████████████████████████████████████████████████████████████████| 600/600 [02:53<00:00,  3.47it/s]\n"
     ]
    },
    {
     "name": "stdout",
     "output_type": "stream",
     "text": [
      "FOLD  2\n"
     ]
    },
    {
     "name": "stderr",
     "output_type": "stream",
     "text": [
      "100%|████████████████████████████████████████████████████████████████████████████████| 600/600 [02:52<00:00,  3.49it/s]\n"
     ]
    },
    {
     "name": "stdout",
     "output_type": "stream",
     "text": [
      "FOLD  3\n"
     ]
    },
    {
     "name": "stderr",
     "output_type": "stream",
     "text": [
      "100%|████████████████████████████████████████████████████████████████████████████████| 600/600 [02:50<00:00,  3.52it/s]\n"
     ]
    },
    {
     "name": "stdout",
     "output_type": "stream",
     "text": [
      "FOLD  4\n"
     ]
    },
    {
     "name": "stderr",
     "output_type": "stream",
     "text": [
      "100%|████████████████████████████████████████████████████████████████████████████████| 600/600 [02:49<00:00,  3.54it/s]\n"
     ]
    },
    {
     "name": "stdout",
     "output_type": "stream",
     "text": [
      "FOLD  5\n"
     ]
    },
    {
     "name": "stderr",
     "output_type": "stream",
     "text": [
      "100%|████████████████████████████████████████████████████████████████████████████████| 600/600 [02:49<00:00,  3.53it/s]\n"
     ]
    },
    {
     "name": "stdout",
     "output_type": "stream",
     "text": [
      "3.165902425567309\n",
      "3.398399113893509\n",
      "Model  13\n",
      "Network parameters: {'device': device(type='cpu'), 'batch_size': 10, 'dropout': 0.05, 'num_epochs': 400, 'learning_rate': 0.001, 'optimizer': 'adam', 'Nhi1': 50, 'Nhi2': 200, 'reg_param': 0.0003}\n",
      "FOLD  1\n"
     ]
    },
    {
     "name": "stderr",
     "output_type": "stream",
     "text": [
      "100%|████████████████████████████████████████████████████████████████████████████████| 400/400 [01:41<00:00,  3.95it/s]\n"
     ]
    },
    {
     "name": "stdout",
     "output_type": "stream",
     "text": [
      "FOLD  2\n"
     ]
    },
    {
     "name": "stderr",
     "output_type": "stream",
     "text": [
      "100%|████████████████████████████████████████████████████████████████████████████████| 400/400 [01:36<00:00,  4.13it/s]\n"
     ]
    },
    {
     "name": "stdout",
     "output_type": "stream",
     "text": [
      "FOLD  3\n"
     ]
    },
    {
     "name": "stderr",
     "output_type": "stream",
     "text": [
      "100%|████████████████████████████████████████████████████████████████████████████████| 400/400 [01:39<00:00,  4.00it/s]\n"
     ]
    },
    {
     "name": "stdout",
     "output_type": "stream",
     "text": [
      "FOLD  4\n"
     ]
    },
    {
     "name": "stderr",
     "output_type": "stream",
     "text": [
      "100%|████████████████████████████████████████████████████████████████████████████████| 400/400 [01:39<00:00,  4.00it/s]\n"
     ]
    },
    {
     "name": "stdout",
     "output_type": "stream",
     "text": [
      "FOLD  5\n"
     ]
    },
    {
     "name": "stderr",
     "output_type": "stream",
     "text": [
      "100%|████████████████████████████████████████████████████████████████████████████████| 400/400 [01:39<00:00,  4.01it/s]\n"
     ]
    },
    {
     "name": "stdout",
     "output_type": "stream",
     "text": [
      "0.6242121759727597\n",
      "0.7037660158798098\n",
      "Model  14\n",
      "Network parameters: {'device': device(type='cpu'), 'batch_size': 15, 'dropout': 0.01, 'num_epochs': 400, 'learning_rate': 0.01, 'optimizer': 'adam', 'Nhi1': 20, 'Nhi2': 100, 'reg_param': 0.0001}\n",
      "FOLD  1\n"
     ]
    },
    {
     "name": "stderr",
     "output_type": "stream",
     "text": [
      "100%|████████████████████████████████████████████████████████████████████████████████| 400/400 [01:25<00:00,  4.66it/s]\n"
     ]
    },
    {
     "name": "stdout",
     "output_type": "stream",
     "text": [
      "FOLD  2\n"
     ]
    },
    {
     "name": "stderr",
     "output_type": "stream",
     "text": [
      "100%|████████████████████████████████████████████████████████████████████████████████| 400/400 [01:26<00:00,  4.64it/s]\n"
     ]
    },
    {
     "name": "stdout",
     "output_type": "stream",
     "text": [
      "FOLD  3\n"
     ]
    },
    {
     "name": "stderr",
     "output_type": "stream",
     "text": [
      "100%|████████████████████████████████████████████████████████████████████████████████| 400/400 [01:25<00:00,  4.66it/s]\n"
     ]
    },
    {
     "name": "stdout",
     "output_type": "stream",
     "text": [
      "FOLD  4\n"
     ]
    },
    {
     "name": "stderr",
     "output_type": "stream",
     "text": [
      "100%|████████████████████████████████████████████████████████████████████████████████| 400/400 [01:26<00:00,  4.64it/s]\n"
     ]
    },
    {
     "name": "stdout",
     "output_type": "stream",
     "text": [
      "FOLD  5\n"
     ]
    },
    {
     "name": "stderr",
     "output_type": "stream",
     "text": [
      "100%|████████████████████████████████████████████████████████████████████████████████| 400/400 [01:26<00:00,  4.60it/s]\n"
     ]
    },
    {
     "name": "stdout",
     "output_type": "stream",
     "text": [
      "0.5393671684712171\n",
      "0.4883839360177517\n",
      "Model  15\n",
      "Network parameters: {'device': device(type='cpu'), 'batch_size': 5, 'dropout': 0.05, 'num_epochs': 600, 'learning_rate': 0.01, 'optimizer': 'adam', 'Nhi1': 20, 'Nhi2': 200, 'reg_param': 0.0001}\n",
      "FOLD  1\n"
     ]
    },
    {
     "name": "stderr",
     "output_type": "stream",
     "text": [
      "100%|████████████████████████████████████████████████████████████████████████████████| 600/600 [03:18<00:00,  3.03it/s]\n"
     ]
    },
    {
     "name": "stdout",
     "output_type": "stream",
     "text": [
      "FOLD  2\n"
     ]
    },
    {
     "name": "stderr",
     "output_type": "stream",
     "text": [
      "100%|████████████████████████████████████████████████████████████████████████████████| 600/600 [03:17<00:00,  3.03it/s]\n"
     ]
    },
    {
     "name": "stdout",
     "output_type": "stream",
     "text": [
      "FOLD  3\n"
     ]
    },
    {
     "name": "stderr",
     "output_type": "stream",
     "text": [
      "100%|████████████████████████████████████████████████████████████████████████████████| 600/600 [03:23<00:00,  2.95it/s]\n"
     ]
    },
    {
     "name": "stdout",
     "output_type": "stream",
     "text": [
      "FOLD  4\n"
     ]
    },
    {
     "name": "stderr",
     "output_type": "stream",
     "text": [
      "100%|████████████████████████████████████████████████████████████████████████████████| 600/600 [03:47<00:00,  2.63it/s]\n"
     ]
    },
    {
     "name": "stdout",
     "output_type": "stream",
     "text": [
      "FOLD  5\n"
     ]
    },
    {
     "name": "stderr",
     "output_type": "stream",
     "text": [
      "100%|████████████████████████████████████████████████████████████████████████████████| 600/600 [03:47<00:00,  2.64it/s]\n"
     ]
    },
    {
     "name": "stdout",
     "output_type": "stream",
     "text": [
      "0.48225299043705067\n",
      "0.5019240849763155\n",
      "Model  16\n",
      "Network parameters: {'device': device(type='cpu'), 'batch_size': 5, 'dropout': 0.03, 'num_epochs': 600, 'learning_rate': 0.01, 'optimizer': 'sgd', 'Nhi1': 10, 'Nhi2': 100, 'reg_param': 0.0005}\n",
      "FOLD  1\n"
     ]
    },
    {
     "name": "stderr",
     "output_type": "stream",
     "text": [
      "100%|████████████████████████████████████████████████████████████████████████████████| 600/600 [03:07<00:00,  3.21it/s]\n"
     ]
    },
    {
     "name": "stdout",
     "output_type": "stream",
     "text": [
      "FOLD  2\n"
     ]
    },
    {
     "name": "stderr",
     "output_type": "stream",
     "text": [
      "100%|████████████████████████████████████████████████████████████████████████████████| 600/600 [02:51<00:00,  3.49it/s]\n"
     ]
    },
    {
     "name": "stdout",
     "output_type": "stream",
     "text": [
      "FOLD  3\n"
     ]
    },
    {
     "name": "stderr",
     "output_type": "stream",
     "text": [
      "100%|████████████████████████████████████████████████████████████████████████████████| 600/600 [02:50<00:00,  3.52it/s]\n"
     ]
    },
    {
     "name": "stdout",
     "output_type": "stream",
     "text": [
      "FOLD  4\n"
     ]
    },
    {
     "name": "stderr",
     "output_type": "stream",
     "text": [
      "100%|████████████████████████████████████████████████████████████████████████████████| 600/600 [02:54<00:00,  3.44it/s]\n"
     ]
    },
    {
     "name": "stdout",
     "output_type": "stream",
     "text": [
      "FOLD  5\n"
     ]
    },
    {
     "name": "stderr",
     "output_type": "stream",
     "text": [
      "100%|████████████████████████████████████████████████████████████████████████████████| 600/600 [02:52<00:00,  3.49it/s]\n"
     ]
    },
    {
     "name": "stdout",
     "output_type": "stream",
     "text": [
      "3.3465152526696524\n",
      "3.5570400677522023\n",
      "Model  17\n",
      "Network parameters: {'device': device(type='cpu'), 'batch_size': 15, 'dropout': 0.01, 'num_epochs': 400, 'learning_rate': 0.001, 'optimizer': 'sgd', 'Nhi1': 50, 'Nhi2': 100, 'reg_param': 0.0003}\n",
      "FOLD  1\n"
     ]
    },
    {
     "name": "stderr",
     "output_type": "stream",
     "text": [
      "100%|████████████████████████████████████████████████████████████████████████████████| 400/400 [01:23<00:00,  4.78it/s]\n"
     ]
    },
    {
     "name": "stdout",
     "output_type": "stream",
     "text": [
      "FOLD  2\n"
     ]
    },
    {
     "name": "stderr",
     "output_type": "stream",
     "text": [
      "100%|████████████████████████████████████████████████████████████████████████████████| 400/400 [01:23<00:00,  4.77it/s]\n"
     ]
    },
    {
     "name": "stdout",
     "output_type": "stream",
     "text": [
      "FOLD  3\n"
     ]
    },
    {
     "name": "stderr",
     "output_type": "stream",
     "text": [
      "100%|████████████████████████████████████████████████████████████████████████████████| 400/400 [01:24<00:00,  4.76it/s]\n"
     ]
    },
    {
     "name": "stdout",
     "output_type": "stream",
     "text": [
      "FOLD  4\n"
     ]
    },
    {
     "name": "stderr",
     "output_type": "stream",
     "text": [
      "100%|████████████████████████████████████████████████████████████████████████████████| 400/400 [01:23<00:00,  4.77it/s]\n"
     ]
    },
    {
     "name": "stdout",
     "output_type": "stream",
     "text": [
      "FOLD  5\n"
     ]
    },
    {
     "name": "stderr",
     "output_type": "stream",
     "text": [
      "100%|████████████████████████████████████████████████████████████████████████████████| 400/400 [01:24<00:00,  4.75it/s]\n"
     ]
    },
    {
     "name": "stdout",
     "output_type": "stream",
     "text": [
      "0.7990136978402734\n",
      "0.8282245034724474\n",
      "Model  18\n",
      "Network parameters: {'device': device(type='cpu'), 'batch_size': 10, 'dropout': 0.05, 'num_epochs': 400, 'learning_rate': 0.01, 'optimizer': 'sgd', 'Nhi1': 50, 'Nhi2': 100, 'reg_param': 0.0005}\n",
      "FOLD  1\n"
     ]
    },
    {
     "name": "stderr",
     "output_type": "stream",
     "text": [
      "100%|████████████████████████████████████████████████████████████████████████████████| 400/400 [01:30<00:00,  4.42it/s]\n"
     ]
    },
    {
     "name": "stdout",
     "output_type": "stream",
     "text": [
      "FOLD  2\n"
     ]
    },
    {
     "name": "stderr",
     "output_type": "stream",
     "text": [
      "100%|████████████████████████████████████████████████████████████████████████████████| 400/400 [01:32<00:00,  4.34it/s]\n"
     ]
    },
    {
     "name": "stdout",
     "output_type": "stream",
     "text": [
      "FOLD  3\n"
     ]
    },
    {
     "name": "stderr",
     "output_type": "stream",
     "text": [
      "100%|████████████████████████████████████████████████████████████████████████████████| 400/400 [01:31<00:00,  4.37it/s]\n"
     ]
    },
    {
     "name": "stdout",
     "output_type": "stream",
     "text": [
      "FOLD  4\n"
     ]
    },
    {
     "name": "stderr",
     "output_type": "stream",
     "text": [
      "100%|████████████████████████████████████████████████████████████████████████████████| 400/400 [01:29<00:00,  4.49it/s]\n"
     ]
    },
    {
     "name": "stdout",
     "output_type": "stream",
     "text": [
      "FOLD  5\n"
     ]
    },
    {
     "name": "stderr",
     "output_type": "stream",
     "text": [
      "100%|████████████████████████████████████████████████████████████████████████████████| 400/400 [01:29<00:00,  4.47it/s]\n"
     ]
    },
    {
     "name": "stdout",
     "output_type": "stream",
     "text": [
      "2.16172138312459\n",
      "2.1520519410073757\n",
      "Model  19\n",
      "Network parameters: {'device': device(type='cpu'), 'batch_size': 15, 'dropout': 0.03, 'num_epochs': 400, 'learning_rate': 0.001, 'optimizer': 'sgd', 'Nhi1': 20, 'Nhi2': 200, 'reg_param': 0.0005}\n",
      "FOLD  1\n"
     ]
    },
    {
     "name": "stderr",
     "output_type": "stream",
     "text": [
      "100%|████████████████████████████████████████████████████████████████████████████████| 400/400 [01:23<00:00,  4.80it/s]\n"
     ]
    },
    {
     "name": "stdout",
     "output_type": "stream",
     "text": [
      "FOLD  2\n"
     ]
    },
    {
     "name": "stderr",
     "output_type": "stream",
     "text": [
      "100%|████████████████████████████████████████████████████████████████████████████████| 400/400 [01:23<00:00,  4.77it/s]\n"
     ]
    },
    {
     "name": "stdout",
     "output_type": "stream",
     "text": [
      "FOLD  3\n"
     ]
    },
    {
     "name": "stderr",
     "output_type": "stream",
     "text": [
      "100%|████████████████████████████████████████████████████████████████████████████████| 400/400 [01:23<00:00,  4.80it/s]\n"
     ]
    },
    {
     "name": "stdout",
     "output_type": "stream",
     "text": [
      "FOLD  4\n"
     ]
    },
    {
     "name": "stderr",
     "output_type": "stream",
     "text": [
      "100%|████████████████████████████████████████████████████████████████████████████████| 400/400 [01:23<00:00,  4.79it/s]\n"
     ]
    },
    {
     "name": "stdout",
     "output_type": "stream",
     "text": [
      "FOLD  5\n"
     ]
    },
    {
     "name": "stderr",
     "output_type": "stream",
     "text": [
      "100%|████████████████████████████████████████████████████████████████████████████████| 400/400 [01:23<00:00,  4.78it/s]\n"
     ]
    },
    {
     "name": "stdout",
     "output_type": "stream",
     "text": [
      "0.7707862451970577\n",
      "0.8487027146667242\n",
      "Model  20\n",
      "Network parameters: {'device': device(type='cpu'), 'batch_size': 5, 'dropout': 0.01, 'num_epochs': 400, 'learning_rate': 0.001, 'optimizer': 'sgd', 'Nhi1': 50, 'Nhi2': 200, 'reg_param': 0.0001}\n",
      "FOLD  1\n"
     ]
    },
    {
     "name": "stderr",
     "output_type": "stream",
     "text": [
      "100%|████████████████████████████████████████████████████████████████████████████████| 400/400 [01:56<00:00,  3.44it/s]\n"
     ]
    },
    {
     "name": "stdout",
     "output_type": "stream",
     "text": [
      "FOLD  2\n"
     ]
    },
    {
     "name": "stderr",
     "output_type": "stream",
     "text": [
      "100%|████████████████████████████████████████████████████████████████████████████████| 400/400 [01:56<00:00,  3.43it/s]\n"
     ]
    },
    {
     "name": "stdout",
     "output_type": "stream",
     "text": [
      "FOLD  3\n"
     ]
    },
    {
     "name": "stderr",
     "output_type": "stream",
     "text": [
      "100%|████████████████████████████████████████████████████████████████████████████████| 400/400 [01:57<00:00,  3.40it/s]\n"
     ]
    },
    {
     "name": "stdout",
     "output_type": "stream",
     "text": [
      "FOLD  4\n"
     ]
    },
    {
     "name": "stderr",
     "output_type": "stream",
     "text": [
      "100%|████████████████████████████████████████████████████████████████████████████████| 400/400 [01:56<00:00,  3.43it/s]\n"
     ]
    },
    {
     "name": "stdout",
     "output_type": "stream",
     "text": [
      "FOLD  5\n"
     ]
    },
    {
     "name": "stderr",
     "output_type": "stream",
     "text": [
      "100%|████████████████████████████████████████████████████████████████████████████████| 400/400 [01:57<00:00,  3.40it/s]\n"
     ]
    },
    {
     "name": "stdout",
     "output_type": "stream",
     "text": [
      "0.7510238344296813\n",
      "0.6874069518148899\n",
      "Model  21\n",
      "Network parameters: {'device': device(type='cpu'), 'batch_size': 15, 'dropout': 0.03, 'num_epochs': 400, 'learning_rate': 0.001, 'optimizer': 'sgd', 'Nhi1': 10, 'Nhi2': 100, 'reg_param': 0.0005}\n",
      "FOLD  1\n"
     ]
    },
    {
     "name": "stderr",
     "output_type": "stream",
     "text": [
      "100%|████████████████████████████████████████████████████████████████████████████████| 400/400 [01:22<00:00,  4.85it/s]\n"
     ]
    },
    {
     "name": "stdout",
     "output_type": "stream",
     "text": [
      "FOLD  2\n"
     ]
    },
    {
     "name": "stderr",
     "output_type": "stream",
     "text": [
      "100%|████████████████████████████████████████████████████████████████████████████████| 400/400 [01:22<00:00,  4.85it/s]\n"
     ]
    },
    {
     "name": "stdout",
     "output_type": "stream",
     "text": [
      "FOLD  3\n"
     ]
    },
    {
     "name": "stderr",
     "output_type": "stream",
     "text": [
      "100%|████████████████████████████████████████████████████████████████████████████████| 400/400 [01:22<00:00,  4.85it/s]\n"
     ]
    },
    {
     "name": "stdout",
     "output_type": "stream",
     "text": [
      "FOLD  4\n"
     ]
    },
    {
     "name": "stderr",
     "output_type": "stream",
     "text": [
      "100%|████████████████████████████████████████████████████████████████████████████████| 400/400 [01:22<00:00,  4.86it/s]\n"
     ]
    },
    {
     "name": "stdout",
     "output_type": "stream",
     "text": [
      "FOLD  5\n"
     ]
    },
    {
     "name": "stderr",
     "output_type": "stream",
     "text": [
      "100%|████████████████████████████████████████████████████████████████████████████████| 400/400 [01:21<00:00,  4.91it/s]\n"
     ]
    },
    {
     "name": "stdout",
     "output_type": "stream",
     "text": [
      "0.8538856211006641\n",
      "0.912648632273078\n",
      "Model  22\n",
      "Network parameters: {'device': device(type='cpu'), 'batch_size': 10, 'dropout': 0.05, 'num_epochs': 400, 'learning_rate': 0.001, 'optimizer': 'sgd', 'Nhi1': 10, 'Nhi2': 100, 'reg_param': 0.0001}\n",
      "FOLD  1\n"
     ]
    },
    {
     "name": "stderr",
     "output_type": "stream",
     "text": [
      "100%|████████████████████████████████████████████████████████████████████████████████| 400/400 [01:26<00:00,  4.63it/s]\n"
     ]
    },
    {
     "name": "stdout",
     "output_type": "stream",
     "text": [
      "FOLD  2\n"
     ]
    },
    {
     "name": "stderr",
     "output_type": "stream",
     "text": [
      "100%|████████████████████████████████████████████████████████████████████████████████| 400/400 [01:26<00:00,  4.64it/s]\n"
     ]
    },
    {
     "name": "stdout",
     "output_type": "stream",
     "text": [
      "FOLD  3\n"
     ]
    },
    {
     "name": "stderr",
     "output_type": "stream",
     "text": [
      "100%|████████████████████████████████████████████████████████████████████████████████| 400/400 [01:26<00:00,  4.61it/s]\n"
     ]
    },
    {
     "name": "stdout",
     "output_type": "stream",
     "text": [
      "FOLD  4\n"
     ]
    },
    {
     "name": "stderr",
     "output_type": "stream",
     "text": [
      "100%|████████████████████████████████████████████████████████████████████████████████| 400/400 [01:29<00:00,  4.47it/s]\n"
     ]
    },
    {
     "name": "stdout",
     "output_type": "stream",
     "text": [
      "FOLD  5\n"
     ]
    },
    {
     "name": "stderr",
     "output_type": "stream",
     "text": [
      "100%|████████████████████████████████████████████████████████████████████████████████| 400/400 [01:35<00:00,  4.20it/s]\n"
     ]
    },
    {
     "name": "stdout",
     "output_type": "stream",
     "text": [
      "0.9337318825572729\n",
      "1.0141922201067208\n",
      "Model  23\n",
      "Network parameters: {'device': device(type='cpu'), 'batch_size': 15, 'dropout': 0.05, 'num_epochs': 600, 'learning_rate': 0.01, 'optimizer': 'sgd', 'Nhi1': 10, 'Nhi2': 300, 'reg_param': 0.0001}\n",
      "FOLD  1\n"
     ]
    },
    {
     "name": "stderr",
     "output_type": "stream",
     "text": [
      "100%|████████████████████████████████████████████████████████████████████████████████| 600/600 [02:11<00:00,  4.56it/s]\n"
     ]
    },
    {
     "name": "stdout",
     "output_type": "stream",
     "text": [
      "FOLD  2\n"
     ]
    },
    {
     "name": "stderr",
     "output_type": "stream",
     "text": [
      "100%|████████████████████████████████████████████████████████████████████████████████| 600/600 [02:08<00:00,  4.67it/s]\n"
     ]
    },
    {
     "name": "stdout",
     "output_type": "stream",
     "text": [
      "FOLD  3\n"
     ]
    },
    {
     "name": "stderr",
     "output_type": "stream",
     "text": [
      "100%|████████████████████████████████████████████████████████████████████████████████| 600/600 [02:08<00:00,  4.66it/s]\n"
     ]
    },
    {
     "name": "stdout",
     "output_type": "stream",
     "text": [
      "FOLD  4\n"
     ]
    },
    {
     "name": "stderr",
     "output_type": "stream",
     "text": [
      "100%|████████████████████████████████████████████████████████████████████████████████| 600/600 [02:05<00:00,  4.78it/s]\n"
     ]
    },
    {
     "name": "stdout",
     "output_type": "stream",
     "text": [
      "FOLD  5\n"
     ]
    },
    {
     "name": "stderr",
     "output_type": "stream",
     "text": [
      "100%|████████████████████████████████████████████████████████████████████████████████| 600/600 [02:21<00:00,  4.24it/s]\n"
     ]
    },
    {
     "name": "stdout",
     "output_type": "stream",
     "text": [
      "2.118427448540926\n",
      "2.2271412242452304\n",
      "Model  24\n",
      "Network parameters: {'device': device(type='cpu'), 'batch_size': 15, 'dropout': 0.03, 'num_epochs': 400, 'learning_rate': 0.01, 'optimizer': 'adam', 'Nhi1': 20, 'Nhi2': 200, 'reg_param': 0.0001}\n",
      "FOLD  1\n"
     ]
    },
    {
     "name": "stderr",
     "output_type": "stream",
     "text": [
      "100%|████████████████████████████████████████████████████████████████████████████████| 400/400 [01:34<00:00,  4.23it/s]\n"
     ]
    },
    {
     "name": "stdout",
     "output_type": "stream",
     "text": [
      "FOLD  2\n"
     ]
    },
    {
     "name": "stderr",
     "output_type": "stream",
     "text": [
      "100%|████████████████████████████████████████████████████████████████████████████████| 400/400 [01:34<00:00,  4.21it/s]\n"
     ]
    },
    {
     "name": "stdout",
     "output_type": "stream",
     "text": [
      "FOLD  3\n"
     ]
    },
    {
     "name": "stderr",
     "output_type": "stream",
     "text": [
      "100%|████████████████████████████████████████████████████████████████████████████████| 400/400 [01:39<00:00,  4.02it/s]\n"
     ]
    },
    {
     "name": "stdout",
     "output_type": "stream",
     "text": [
      "FOLD  4\n"
     ]
    },
    {
     "name": "stderr",
     "output_type": "stream",
     "text": [
      "100%|████████████████████████████████████████████████████████████████████████████████| 400/400 [01:33<00:00,  4.29it/s]\n"
     ]
    },
    {
     "name": "stdout",
     "output_type": "stream",
     "text": [
      "FOLD  5\n"
     ]
    },
    {
     "name": "stderr",
     "output_type": "stream",
     "text": [
      "100%|████████████████████████████████████████████████████████████████████████████████| 400/400 [01:35<00:00,  4.19it/s]\n"
     ]
    },
    {
     "name": "stdout",
     "output_type": "stream",
     "text": [
      "0.5029592010229826\n",
      "0.5093953539282083\n",
      "Model  25\n",
      "Network parameters: {'device': device(type='cpu'), 'batch_size': 5, 'dropout': 0.03, 'num_epochs': 400, 'learning_rate': 0.001, 'optimizer': 'adam', 'Nhi1': 20, 'Nhi2': 300, 'reg_param': 0.0005}\n",
      "FOLD  1\n"
     ]
    },
    {
     "name": "stderr",
     "output_type": "stream",
     "text": [
      "100%|████████████████████████████████████████████████████████████████████████████████| 400/400 [02:22<00:00,  2.81it/s]\n"
     ]
    },
    {
     "name": "stdout",
     "output_type": "stream",
     "text": [
      "FOLD  2\n"
     ]
    },
    {
     "name": "stderr",
     "output_type": "stream",
     "text": [
      "100%|████████████████████████████████████████████████████████████████████████████████| 400/400 [02:22<00:00,  2.80it/s]\n"
     ]
    },
    {
     "name": "stdout",
     "output_type": "stream",
     "text": [
      "FOLD  3\n"
     ]
    },
    {
     "name": "stderr",
     "output_type": "stream",
     "text": [
      "100%|████████████████████████████████████████████████████████████████████████████████| 400/400 [02:23<00:00,  2.78it/s]\n"
     ]
    },
    {
     "name": "stdout",
     "output_type": "stream",
     "text": [
      "FOLD  4\n"
     ]
    },
    {
     "name": "stderr",
     "output_type": "stream",
     "text": [
      "100%|████████████████████████████████████████████████████████████████████████████████| 400/400 [02:22<00:00,  2.80it/s]\n"
     ]
    },
    {
     "name": "stdout",
     "output_type": "stream",
     "text": [
      "FOLD  5\n"
     ]
    },
    {
     "name": "stderr",
     "output_type": "stream",
     "text": [
      "100%|████████████████████████████████████████████████████████████████████████████████| 400/400 [02:22<00:00,  2.80it/s]\n"
     ]
    },
    {
     "name": "stdout",
     "output_type": "stream",
     "text": [
      "0.6628232722654939\n",
      "0.6617209939733147\n",
      "Model  26\n",
      "Network parameters: {'device': device(type='cpu'), 'batch_size': 10, 'dropout': 0.03, 'num_epochs': 400, 'learning_rate': 0.01, 'optimizer': 'sgd', 'Nhi1': 10, 'Nhi2': 200, 'reg_param': 0.0001}\n",
      "FOLD  1\n"
     ]
    },
    {
     "name": "stderr",
     "output_type": "stream",
     "text": [
      "100%|████████████████████████████████████████████████████████████████████████████████| 400/400 [01:29<00:00,  4.49it/s]\n"
     ]
    },
    {
     "name": "stdout",
     "output_type": "stream",
     "text": [
      "FOLD  2\n"
     ]
    },
    {
     "name": "stderr",
     "output_type": "stream",
     "text": [
      "100%|████████████████████████████████████████████████████████████████████████████████| 400/400 [01:28<00:00,  4.50it/s]\n"
     ]
    },
    {
     "name": "stdout",
     "output_type": "stream",
     "text": [
      "FOLD  3\n"
     ]
    },
    {
     "name": "stderr",
     "output_type": "stream",
     "text": [
      "100%|████████████████████████████████████████████████████████████████████████████████| 400/400 [01:27<00:00,  4.55it/s]\n"
     ]
    },
    {
     "name": "stdout",
     "output_type": "stream",
     "text": [
      "FOLD  4\n"
     ]
    },
    {
     "name": "stderr",
     "output_type": "stream",
     "text": [
      "100%|████████████████████████████████████████████████████████████████████████████████| 400/400 [01:28<00:00,  4.50it/s]\n"
     ]
    },
    {
     "name": "stdout",
     "output_type": "stream",
     "text": [
      "FOLD  5\n"
     ]
    },
    {
     "name": "stderr",
     "output_type": "stream",
     "text": [
      "100%|████████████████████████████████████████████████████████████████████████████████| 400/400 [01:28<00:00,  4.50it/s]\n"
     ]
    },
    {
     "name": "stdout",
     "output_type": "stream",
     "text": [
      "2.0891289464533327\n",
      "2.5057463340163233\n",
      "Model  27\n",
      "Network parameters: {'device': device(type='cpu'), 'batch_size': 10, 'dropout': 0.05, 'num_epochs': 600, 'learning_rate': 0.01, 'optimizer': 'adam', 'Nhi1': 10, 'Nhi2': 200, 'reg_param': 0.0005}\n",
      "FOLD  1\n"
     ]
    },
    {
     "name": "stderr",
     "output_type": "stream",
     "text": [
      "100%|████████████████████████████████████████████████████████████████████████████████| 600/600 [02:30<00:00,  3.98it/s]\n"
     ]
    },
    {
     "name": "stdout",
     "output_type": "stream",
     "text": [
      "FOLD  2\n"
     ]
    },
    {
     "name": "stderr",
     "output_type": "stream",
     "text": [
      "100%|████████████████████████████████████████████████████████████████████████████████| 600/600 [02:31<00:00,  3.97it/s]\n"
     ]
    },
    {
     "name": "stdout",
     "output_type": "stream",
     "text": [
      "FOLD  3\n"
     ]
    },
    {
     "name": "stderr",
     "output_type": "stream",
     "text": [
      "100%|████████████████████████████████████████████████████████████████████████████████| 600/600 [02:30<00:00,  3.98it/s]\n"
     ]
    },
    {
     "name": "stdout",
     "output_type": "stream",
     "text": [
      "FOLD  4\n"
     ]
    },
    {
     "name": "stderr",
     "output_type": "stream",
     "text": [
      "100%|████████████████████████████████████████████████████████████████████████████████| 600/600 [02:30<00:00,  3.99it/s]\n"
     ]
    },
    {
     "name": "stdout",
     "output_type": "stream",
     "text": [
      "FOLD  5\n"
     ]
    },
    {
     "name": "stderr",
     "output_type": "stream",
     "text": [
      "100%|████████████████████████████████████████████████████████████████████████████████| 600/600 [02:29<00:00,  4.02it/s]\n"
     ]
    },
    {
     "name": "stdout",
     "output_type": "stream",
     "text": [
      "0.4692996402680874\n",
      "0.483602615326643\n",
      "Model  28\n",
      "Network parameters: {'device': device(type='cpu'), 'batch_size': 5, 'dropout': 0.01, 'num_epochs': 400, 'learning_rate': 0.001, 'optimizer': 'adam', 'Nhi1': 20, 'Nhi2': 200, 'reg_param': 0.0005}\n",
      "FOLD  1\n"
     ]
    },
    {
     "name": "stderr",
     "output_type": "stream",
     "text": [
      "100%|████████████████████████████████████████████████████████████████████████████████| 400/400 [02:17<00:00,  2.90it/s]\n"
     ]
    },
    {
     "name": "stdout",
     "output_type": "stream",
     "text": [
      "FOLD  2\n"
     ]
    },
    {
     "name": "stderr",
     "output_type": "stream",
     "text": [
      "100%|████████████████████████████████████████████████████████████████████████████████| 400/400 [02:19<00:00,  2.86it/s]\n"
     ]
    },
    {
     "name": "stdout",
     "output_type": "stream",
     "text": [
      "FOLD  3\n"
     ]
    },
    {
     "name": "stderr",
     "output_type": "stream",
     "text": [
      "100%|████████████████████████████████████████████████████████████████████████████████| 400/400 [02:18<00:00,  2.89it/s]\n"
     ]
    },
    {
     "name": "stdout",
     "output_type": "stream",
     "text": [
      "FOLD  4\n"
     ]
    },
    {
     "name": "stderr",
     "output_type": "stream",
     "text": [
      "100%|████████████████████████████████████████████████████████████████████████████████| 400/400 [02:19<00:00,  2.87it/s]\n"
     ]
    },
    {
     "name": "stdout",
     "output_type": "stream",
     "text": [
      "FOLD  5\n"
     ]
    },
    {
     "name": "stderr",
     "output_type": "stream",
     "text": [
      "100%|████████████████████████████████████████████████████████████████████████████████| 400/400 [02:17<00:00,  2.90it/s]\n"
     ]
    },
    {
     "name": "stdout",
     "output_type": "stream",
     "text": [
      "0.6247214955687523\n",
      "0.579208896458149\n",
      "Model  29\n",
      "Network parameters: {'device': device(type='cpu'), 'batch_size': 10, 'dropout': 0.01, 'num_epochs': 600, 'learning_rate': 0.01, 'optimizer': 'sgd', 'Nhi1': 20, 'Nhi2': 300, 'reg_param': 0.0001}\n",
      "FOLD  1\n"
     ]
    },
    {
     "name": "stderr",
     "output_type": "stream",
     "text": [
      "100%|████████████████████████████████████████████████████████████████████████████████| 600/600 [02:06<00:00,  4.73it/s]\n"
     ]
    },
    {
     "name": "stdout",
     "output_type": "stream",
     "text": [
      "FOLD  2\n"
     ]
    },
    {
     "name": "stderr",
     "output_type": "stream",
     "text": [
      "100%|████████████████████████████████████████████████████████████████████████████████| 600/600 [02:15<00:00,  4.42it/s]\n"
     ]
    },
    {
     "name": "stdout",
     "output_type": "stream",
     "text": [
      "FOLD  3\n"
     ]
    },
    {
     "name": "stderr",
     "output_type": "stream",
     "text": [
      "100%|████████████████████████████████████████████████████████████████████████████████| 600/600 [02:15<00:00,  4.42it/s]\n"
     ]
    },
    {
     "name": "stdout",
     "output_type": "stream",
     "text": [
      "FOLD  4\n"
     ]
    },
    {
     "name": "stderr",
     "output_type": "stream",
     "text": [
      "100%|████████████████████████████████████████████████████████████████████████████████| 600/600 [02:16<00:00,  4.41it/s]\n"
     ]
    },
    {
     "name": "stdout",
     "output_type": "stream",
     "text": [
      "FOLD  5\n"
     ]
    },
    {
     "name": "stderr",
     "output_type": "stream",
     "text": [
      "100%|████████████████████████████████████████████████████████████████████████████████| 600/600 [02:15<00:00,  4.42it/s]\n"
     ]
    },
    {
     "name": "stdout",
     "output_type": "stream",
     "text": [
      "1.1476392228802046\n",
      "1.278979206820329\n",
      "Model  30\n",
      "Network parameters: {'device': device(type='cpu'), 'batch_size': 10, 'dropout': 0.05, 'num_epochs': 400, 'learning_rate': 0.01, 'optimizer': 'sgd', 'Nhi1': 50, 'Nhi2': 200, 'reg_param': 0.0001}\n",
      "FOLD  1\n"
     ]
    },
    {
     "name": "stderr",
     "output_type": "stream",
     "text": [
      "100%|████████████████████████████████████████████████████████████████████████████████| 400/400 [01:30<00:00,  4.41it/s]\n"
     ]
    },
    {
     "name": "stdout",
     "output_type": "stream",
     "text": [
      "FOLD  2\n"
     ]
    },
    {
     "name": "stderr",
     "output_type": "stream",
     "text": [
      "100%|████████████████████████████████████████████████████████████████████████████████| 400/400 [01:31<00:00,  4.38it/s]\n"
     ]
    },
    {
     "name": "stdout",
     "output_type": "stream",
     "text": [
      "FOLD  3\n"
     ]
    },
    {
     "name": "stderr",
     "output_type": "stream",
     "text": [
      "100%|████████████████████████████████████████████████████████████████████████████████| 400/400 [01:31<00:00,  4.39it/s]\n"
     ]
    },
    {
     "name": "stdout",
     "output_type": "stream",
     "text": [
      "FOLD  4\n"
     ]
    },
    {
     "name": "stderr",
     "output_type": "stream",
     "text": [
      "100%|████████████████████████████████████████████████████████████████████████████████| 400/400 [01:31<00:00,  4.38it/s]\n"
     ]
    },
    {
     "name": "stdout",
     "output_type": "stream",
     "text": [
      "FOLD  5\n"
     ]
    },
    {
     "name": "stderr",
     "output_type": "stream",
     "text": [
      "100%|████████████████████████████████████████████████████████████████████████████████| 400/400 [01:31<00:00,  4.37it/s]\n"
     ]
    },
    {
     "name": "stdout",
     "output_type": "stream",
     "text": [
      "2.3066000776141884\n",
      "2.405223564982414\n",
      "Model  31\n",
      "Network parameters: {'device': device(type='cpu'), 'batch_size': 15, 'dropout': 0.03, 'num_epochs': 400, 'learning_rate': 0.01, 'optimizer': 'adam', 'Nhi1': 10, 'Nhi2': 100, 'reg_param': 0.0001}\n",
      "FOLD  1\n"
     ]
    },
    {
     "name": "stderr",
     "output_type": "stream",
     "text": [
      "100%|████████████████████████████████████████████████████████████████████████████████| 400/400 [01:30<00:00,  4.42it/s]\n"
     ]
    },
    {
     "name": "stdout",
     "output_type": "stream",
     "text": [
      "FOLD  2\n"
     ]
    },
    {
     "name": "stderr",
     "output_type": "stream",
     "text": [
      "100%|████████████████████████████████████████████████████████████████████████████████| 400/400 [01:30<00:00,  4.42it/s]\n"
     ]
    },
    {
     "name": "stdout",
     "output_type": "stream",
     "text": [
      "FOLD  3\n"
     ]
    },
    {
     "name": "stderr",
     "output_type": "stream",
     "text": [
      "100%|████████████████████████████████████████████████████████████████████████████████| 400/400 [01:30<00:00,  4.40it/s]\n"
     ]
    },
    {
     "name": "stdout",
     "output_type": "stream",
     "text": [
      "FOLD  4\n"
     ]
    },
    {
     "name": "stderr",
     "output_type": "stream",
     "text": [
      "100%|████████████████████████████████████████████████████████████████████████████████| 400/400 [01:30<00:00,  4.44it/s]\n"
     ]
    },
    {
     "name": "stdout",
     "output_type": "stream",
     "text": [
      "FOLD  5\n"
     ]
    },
    {
     "name": "stderr",
     "output_type": "stream",
     "text": [
      "100%|████████████████████████████████████████████████████████████████████████████████| 400/400 [01:30<00:00,  4.42it/s]\n"
     ]
    },
    {
     "name": "stdout",
     "output_type": "stream",
     "text": [
      "0.5689828741177917\n",
      "0.5540401713326574\n",
      "Model  32\n",
      "Network parameters: {'device': device(type='cpu'), 'batch_size': 5, 'dropout': 0.01, 'num_epochs': 400, 'learning_rate': 0.001, 'optimizer': 'sgd', 'Nhi1': 20, 'Nhi2': 300, 'reg_param': 0.0005}\n",
      "FOLD  1\n"
     ]
    },
    {
     "name": "stderr",
     "output_type": "stream",
     "text": [
      "100%|████████████████████████████████████████████████████████████████████████████████| 400/400 [01:56<00:00,  3.44it/s]\n"
     ]
    },
    {
     "name": "stdout",
     "output_type": "stream",
     "text": [
      "FOLD  2\n"
     ]
    },
    {
     "name": "stderr",
     "output_type": "stream",
     "text": [
      "100%|████████████████████████████████████████████████████████████████████████████████| 400/400 [01:56<00:00,  3.43it/s]\n"
     ]
    },
    {
     "name": "stdout",
     "output_type": "stream",
     "text": [
      "FOLD  3\n"
     ]
    },
    {
     "name": "stderr",
     "output_type": "stream",
     "text": [
      "100%|████████████████████████████████████████████████████████████████████████████████| 400/400 [01:56<00:00,  3.44it/s]\n"
     ]
    },
    {
     "name": "stdout",
     "output_type": "stream",
     "text": [
      "FOLD  4\n"
     ]
    },
    {
     "name": "stderr",
     "output_type": "stream",
     "text": [
      "100%|████████████████████████████████████████████████████████████████████████████████| 400/400 [01:54<00:00,  3.49it/s]\n"
     ]
    },
    {
     "name": "stdout",
     "output_type": "stream",
     "text": [
      "FOLD  5\n"
     ]
    },
    {
     "name": "stderr",
     "output_type": "stream",
     "text": [
      "100%|████████████████████████████████████████████████████████████████████████████████| 400/400 [01:58<00:00,  3.38it/s]\n"
     ]
    },
    {
     "name": "stdout",
     "output_type": "stream",
     "text": [
      "0.700677729010582\n",
      "0.670114911057055\n",
      "Model  33\n",
      "Network parameters: {'device': device(type='cpu'), 'batch_size': 5, 'dropout': 0.05, 'num_epochs': 400, 'learning_rate': 0.01, 'optimizer': 'adam', 'Nhi1': 50, 'Nhi2': 200, 'reg_param': 0.0001}\n",
      "FOLD  1\n"
     ]
    },
    {
     "name": "stderr",
     "output_type": "stream",
     "text": [
      "100%|████████████████████████████████████████████████████████████████████████████████| 400/400 [02:22<00:00,  2.80it/s]\n"
     ]
    },
    {
     "name": "stdout",
     "output_type": "stream",
     "text": [
      "FOLD  2\n"
     ]
    },
    {
     "name": "stderr",
     "output_type": "stream",
     "text": [
      "100%|████████████████████████████████████████████████████████████████████████████████| 400/400 [02:23<00:00,  2.78it/s]\n"
     ]
    },
    {
     "name": "stdout",
     "output_type": "stream",
     "text": [
      "FOLD  3\n"
     ]
    },
    {
     "name": "stderr",
     "output_type": "stream",
     "text": [
      "100%|████████████████████████████████████████████████████████████████████████████████| 400/400 [02:22<00:00,  2.81it/s]\n"
     ]
    },
    {
     "name": "stdout",
     "output_type": "stream",
     "text": [
      "FOLD  4\n"
     ]
    },
    {
     "name": "stderr",
     "output_type": "stream",
     "text": [
      "100%|████████████████████████████████████████████████████████████████████████████████| 400/400 [02:21<00:00,  2.83it/s]\n"
     ]
    },
    {
     "name": "stdout",
     "output_type": "stream",
     "text": [
      "FOLD  5\n"
     ]
    },
    {
     "name": "stderr",
     "output_type": "stream",
     "text": [
      "100%|████████████████████████████████████████████████████████████████████████████████| 400/400 [02:22<00:00,  2.81it/s]\n"
     ]
    },
    {
     "name": "stdout",
     "output_type": "stream",
     "text": [
      "0.5312576586604119\n",
      "0.5658303504735231\n",
      "Model  34\n",
      "Network parameters: {'device': device(type='cpu'), 'batch_size': 15, 'dropout': 0.05, 'num_epochs': 400, 'learning_rate': 0.01, 'optimizer': 'sgd', 'Nhi1': 20, 'Nhi2': 200, 'reg_param': 0.0005}\n",
      "FOLD  1\n"
     ]
    },
    {
     "name": "stderr",
     "output_type": "stream",
     "text": [
      "100%|████████████████████████████████████████████████████████████████████████████████| 400/400 [01:20<00:00,  4.94it/s]\n"
     ]
    },
    {
     "name": "stdout",
     "output_type": "stream",
     "text": [
      "FOLD  2\n"
     ]
    },
    {
     "name": "stderr",
     "output_type": "stream",
     "text": [
      "100%|████████████████████████████████████████████████████████████████████████████████| 400/400 [01:20<00:00,  4.96it/s]\n"
     ]
    },
    {
     "name": "stdout",
     "output_type": "stream",
     "text": [
      "FOLD  3\n"
     ]
    },
    {
     "name": "stderr",
     "output_type": "stream",
     "text": [
      "100%|████████████████████████████████████████████████████████████████████████████████| 400/400 [01:20<00:00,  4.99it/s]\n"
     ]
    },
    {
     "name": "stdout",
     "output_type": "stream",
     "text": [
      "FOLD  4\n"
     ]
    },
    {
     "name": "stderr",
     "output_type": "stream",
     "text": [
      "100%|████████████████████████████████████████████████████████████████████████████████| 400/400 [01:21<00:00,  4.93it/s]\n"
     ]
    },
    {
     "name": "stdout",
     "output_type": "stream",
     "text": [
      "FOLD  5\n"
     ]
    },
    {
     "name": "stderr",
     "output_type": "stream",
     "text": [
      "100%|████████████████████████████████████████████████████████████████████████████████| 400/400 [01:20<00:00,  4.98it/s]\n"
     ]
    },
    {
     "name": "stdout",
     "output_type": "stream",
     "text": [
      "1.8241341667324305\n",
      "1.881735125184059\n",
      "Model  35\n",
      "Network parameters: {'device': device(type='cpu'), 'batch_size': 15, 'dropout': 0.05, 'num_epochs': 400, 'learning_rate': 0.01, 'optimizer': 'adam', 'Nhi1': 10, 'Nhi2': 100, 'reg_param': 0.0005}\n",
      "FOLD  1\n"
     ]
    },
    {
     "name": "stderr",
     "output_type": "stream",
     "text": [
      "100%|████████████████████████████████████████████████████████████████████████████████| 400/400 [01:28<00:00,  4.54it/s]\n"
     ]
    },
    {
     "name": "stdout",
     "output_type": "stream",
     "text": [
      "FOLD  2\n"
     ]
    },
    {
     "name": "stderr",
     "output_type": "stream",
     "text": [
      "100%|████████████████████████████████████████████████████████████████████████████████| 400/400 [01:27<00:00,  4.59it/s]\n"
     ]
    },
    {
     "name": "stdout",
     "output_type": "stream",
     "text": [
      "FOLD  3\n"
     ]
    },
    {
     "name": "stderr",
     "output_type": "stream",
     "text": [
      "100%|████████████████████████████████████████████████████████████████████████████████| 400/400 [01:27<00:00,  4.55it/s]\n"
     ]
    },
    {
     "name": "stdout",
     "output_type": "stream",
     "text": [
      "FOLD  4\n"
     ]
    },
    {
     "name": "stderr",
     "output_type": "stream",
     "text": [
      "100%|████████████████████████████████████████████████████████████████████████████████| 400/400 [01:27<00:00,  4.60it/s]\n"
     ]
    },
    {
     "name": "stdout",
     "output_type": "stream",
     "text": [
      "FOLD  5\n"
     ]
    },
    {
     "name": "stderr",
     "output_type": "stream",
     "text": [
      "100%|████████████████████████████████████████████████████████████████████████████████| 400/400 [01:27<00:00,  4.57it/s]\n"
     ]
    },
    {
     "name": "stdout",
     "output_type": "stream",
     "text": [
      "0.5561332307159901\n",
      "0.5914290138408542\n",
      "Model  36\n",
      "Network parameters: {'device': device(type='cpu'), 'batch_size': 15, 'dropout': 0.05, 'num_epochs': 400, 'learning_rate': 0.001, 'optimizer': 'adam', 'Nhi1': 10, 'Nhi2': 200, 'reg_param': 0.0005}\n",
      "FOLD  1\n"
     ]
    },
    {
     "name": "stderr",
     "output_type": "stream",
     "text": [
      "100%|████████████████████████████████████████████████████████████████████████████████| 400/400 [01:28<00:00,  4.53it/s]\n"
     ]
    },
    {
     "name": "stdout",
     "output_type": "stream",
     "text": [
      "FOLD  2\n"
     ]
    },
    {
     "name": "stderr",
     "output_type": "stream",
     "text": [
      "100%|████████████████████████████████████████████████████████████████████████████████| 400/400 [01:27<00:00,  4.55it/s]\n"
     ]
    },
    {
     "name": "stdout",
     "output_type": "stream",
     "text": [
      "FOLD  3\n"
     ]
    },
    {
     "name": "stderr",
     "output_type": "stream",
     "text": [
      "100%|████████████████████████████████████████████████████████████████████████████████| 400/400 [01:28<00:00,  4.53it/s]\n"
     ]
    },
    {
     "name": "stdout",
     "output_type": "stream",
     "text": [
      "FOLD  4\n"
     ]
    },
    {
     "name": "stderr",
     "output_type": "stream",
     "text": [
      "100%|████████████████████████████████████████████████████████████████████████████████| 400/400 [01:28<00:00,  4.54it/s]\n"
     ]
    },
    {
     "name": "stdout",
     "output_type": "stream",
     "text": [
      "FOLD  5\n"
     ]
    },
    {
     "name": "stderr",
     "output_type": "stream",
     "text": [
      "100%|████████████████████████████████████████████████████████████████████████████████| 400/400 [01:28<00:00,  4.51it/s]\n"
     ]
    },
    {
     "name": "stdout",
     "output_type": "stream",
     "text": [
      "1.018562875494361\n",
      "1.094482290804386\n",
      "Model  37\n",
      "Network parameters: {'device': device(type='cpu'), 'batch_size': 10, 'dropout': 0.05, 'num_epochs': 400, 'learning_rate': 0.001, 'optimizer': 'sgd', 'Nhi1': 10, 'Nhi2': 200, 'reg_param': 0.0005}\n",
      "FOLD  1\n"
     ]
    },
    {
     "name": "stderr",
     "output_type": "stream",
     "text": [
      "100%|████████████████████████████████████████████████████████████████████████████████| 400/400 [01:25<00:00,  4.68it/s]\n"
     ]
    },
    {
     "name": "stdout",
     "output_type": "stream",
     "text": [
      "FOLD  2\n"
     ]
    },
    {
     "name": "stderr",
     "output_type": "stream",
     "text": [
      "100%|████████████████████████████████████████████████████████████████████████████████| 400/400 [01:25<00:00,  4.65it/s]\n"
     ]
    },
    {
     "name": "stdout",
     "output_type": "stream",
     "text": [
      "FOLD  3\n"
     ]
    },
    {
     "name": "stderr",
     "output_type": "stream",
     "text": [
      "100%|████████████████████████████████████████████████████████████████████████████████| 400/400 [01:25<00:00,  4.68it/s]\n"
     ]
    },
    {
     "name": "stdout",
     "output_type": "stream",
     "text": [
      "FOLD  4\n"
     ]
    },
    {
     "name": "stderr",
     "output_type": "stream",
     "text": [
      "100%|████████████████████████████████████████████████████████████████████████████████| 400/400 [01:25<00:00,  4.70it/s]\n"
     ]
    },
    {
     "name": "stdout",
     "output_type": "stream",
     "text": [
      "FOLD  5\n"
     ]
    },
    {
     "name": "stderr",
     "output_type": "stream",
     "text": [
      "100%|████████████████████████████████████████████████████████████████████████████████| 400/400 [01:25<00:00,  4.68it/s]\n"
     ]
    },
    {
     "name": "stdout",
     "output_type": "stream",
     "text": [
      "0.7673138474225998\n",
      "0.8611449096351862\n",
      "Model  38\n",
      "Network parameters: {'device': device(type='cpu'), 'batch_size': 15, 'dropout': 0.03, 'num_epochs': 400, 'learning_rate': 0.001, 'optimizer': 'sgd', 'Nhi1': 50, 'Nhi2': 300, 'reg_param': 0.0001}\n",
      "FOLD  1\n"
     ]
    },
    {
     "name": "stderr",
     "output_type": "stream",
     "text": [
      "100%|████████████████████████████████████████████████████████████████████████████████| 400/400 [01:22<00:00,  4.85it/s]\n"
     ]
    },
    {
     "name": "stdout",
     "output_type": "stream",
     "text": [
      "FOLD  2\n"
     ]
    },
    {
     "name": "stderr",
     "output_type": "stream",
     "text": [
      "100%|████████████████████████████████████████████████████████████████████████████████| 400/400 [01:23<00:00,  4.82it/s]\n"
     ]
    },
    {
     "name": "stdout",
     "output_type": "stream",
     "text": [
      "FOLD  3\n"
     ]
    },
    {
     "name": "stderr",
     "output_type": "stream",
     "text": [
      "100%|████████████████████████████████████████████████████████████████████████████████| 400/400 [01:22<00:00,  4.85it/s]\n"
     ]
    },
    {
     "name": "stdout",
     "output_type": "stream",
     "text": [
      "FOLD  4\n"
     ]
    },
    {
     "name": "stderr",
     "output_type": "stream",
     "text": [
      "100%|████████████████████████████████████████████████████████████████████████████████| 400/400 [01:22<00:00,  4.82it/s]\n"
     ]
    },
    {
     "name": "stdout",
     "output_type": "stream",
     "text": [
      "FOLD  5\n"
     ]
    },
    {
     "name": "stderr",
     "output_type": "stream",
     "text": [
      "100%|████████████████████████████████████████████████████████████████████████████████| 400/400 [01:22<00:00,  4.86it/s]\n"
     ]
    },
    {
     "name": "stdout",
     "output_type": "stream",
     "text": [
      "0.7478136654496192\n",
      "0.7916389724388718\n",
      "Model  39\n",
      "Network parameters: {'device': device(type='cpu'), 'batch_size': 15, 'dropout': 0.03, 'num_epochs': 600, 'learning_rate': 0.001, 'optimizer': 'adam', 'Nhi1': 50, 'Nhi2': 300, 'reg_param': 0.0005}\n",
      "FOLD  1\n"
     ]
    },
    {
     "name": "stderr",
     "output_type": "stream",
     "text": [
      "100%|████████████████████████████████████████████████████████████████████████████████| 600/600 [02:21<00:00,  4.24it/s]\n"
     ]
    },
    {
     "name": "stdout",
     "output_type": "stream",
     "text": [
      "FOLD  2\n"
     ]
    },
    {
     "name": "stderr",
     "output_type": "stream",
     "text": [
      "100%|████████████████████████████████████████████████████████████████████████████████| 600/600 [02:18<00:00,  4.33it/s]\n"
     ]
    },
    {
     "name": "stdout",
     "output_type": "stream",
     "text": [
      "FOLD  3\n"
     ]
    },
    {
     "name": "stderr",
     "output_type": "stream",
     "text": [
      "100%|████████████████████████████████████████████████████████████████████████████████| 600/600 [02:19<00:00,  4.31it/s]\n"
     ]
    },
    {
     "name": "stdout",
     "output_type": "stream",
     "text": [
      "FOLD  4\n"
     ]
    },
    {
     "name": "stderr",
     "output_type": "stream",
     "text": [
      "100%|████████████████████████████████████████████████████████████████████████████████| 600/600 [02:21<00:00,  4.24it/s]\n"
     ]
    },
    {
     "name": "stdout",
     "output_type": "stream",
     "text": [
      "FOLD  5\n"
     ]
    },
    {
     "name": "stderr",
     "output_type": "stream",
     "text": [
      "100%|████████████████████████████████████████████████████████████████████████████████| 600/600 [02:20<00:00,  4.27it/s]\n"
     ]
    },
    {
     "name": "stdout",
     "output_type": "stream",
     "text": [
      "0.5548005834569534\n",
      "0.5707500178863605\n",
      "Model  40\n",
      "Network parameters: {'device': device(type='cpu'), 'batch_size': 15, 'dropout': 0.01, 'num_epochs': 600, 'learning_rate': 0.01, 'optimizer': 'adam', 'Nhi1': 10, 'Nhi2': 300, 'reg_param': 0.0005}\n",
      "FOLD  1\n"
     ]
    },
    {
     "name": "stderr",
     "output_type": "stream",
     "text": [
      "100%|████████████████████████████████████████████████████████████████████████████████| 600/600 [02:13<00:00,  4.48it/s]\n"
     ]
    },
    {
     "name": "stdout",
     "output_type": "stream",
     "text": [
      "FOLD  2\n"
     ]
    },
    {
     "name": "stderr",
     "output_type": "stream",
     "text": [
      "100%|████████████████████████████████████████████████████████████████████████████████| 600/600 [02:13<00:00,  4.49it/s]\n"
     ]
    },
    {
     "name": "stdout",
     "output_type": "stream",
     "text": [
      "FOLD  3\n"
     ]
    },
    {
     "name": "stderr",
     "output_type": "stream",
     "text": [
      "100%|████████████████████████████████████████████████████████████████████████████████| 600/600 [02:14<00:00,  4.46it/s]\n"
     ]
    },
    {
     "name": "stdout",
     "output_type": "stream",
     "text": [
      "FOLD  4\n"
     ]
    },
    {
     "name": "stderr",
     "output_type": "stream",
     "text": [
      "100%|████████████████████████████████████████████████████████████████████████████████| 600/600 [02:14<00:00,  4.47it/s]\n"
     ]
    },
    {
     "name": "stdout",
     "output_type": "stream",
     "text": [
      "FOLD  5\n"
     ]
    },
    {
     "name": "stderr",
     "output_type": "stream",
     "text": [
      "100%|████████████████████████████████████████████████████████████████████████████████| 600/600 [02:14<00:00,  4.45it/s]\n"
     ]
    },
    {
     "name": "stdout",
     "output_type": "stream",
     "text": [
      "0.44631165446341037\n",
      "0.40193905467291674\n",
      "Model  41\n",
      "Network parameters: {'device': device(type='cpu'), 'batch_size': 15, 'dropout': 0.01, 'num_epochs': 600, 'learning_rate': 0.01, 'optimizer': 'sgd', 'Nhi1': 10, 'Nhi2': 300, 'reg_param': 0.0003}\n",
      "FOLD  1\n"
     ]
    },
    {
     "name": "stderr",
     "output_type": "stream",
     "text": [
      "100%|████████████████████████████████████████████████████████████████████████████████| 600/600 [02:01<00:00,  4.95it/s]\n"
     ]
    },
    {
     "name": "stdout",
     "output_type": "stream",
     "text": [
      "FOLD  2\n"
     ]
    },
    {
     "name": "stderr",
     "output_type": "stream",
     "text": [
      "100%|████████████████████████████████████████████████████████████████████████████████| 600/600 [02:02<00:00,  4.91it/s]\n"
     ]
    },
    {
     "name": "stdout",
     "output_type": "stream",
     "text": [
      "FOLD  3\n"
     ]
    },
    {
     "name": "stderr",
     "output_type": "stream",
     "text": [
      "100%|████████████████████████████████████████████████████████████████████████████████| 600/600 [02:01<00:00,  4.95it/s]\n"
     ]
    },
    {
     "name": "stdout",
     "output_type": "stream",
     "text": [
      "FOLD  4\n"
     ]
    },
    {
     "name": "stderr",
     "output_type": "stream",
     "text": [
      "100%|████████████████████████████████████████████████████████████████████████████████| 600/600 [02:01<00:00,  4.95it/s]\n"
     ]
    },
    {
     "name": "stdout",
     "output_type": "stream",
     "text": [
      "FOLD  5\n"
     ]
    },
    {
     "name": "stderr",
     "output_type": "stream",
     "text": [
      "100%|████████████████████████████████████████████████████████████████████████████████| 600/600 [02:01<00:00,  4.93it/s]\n"
     ]
    },
    {
     "name": "stdout",
     "output_type": "stream",
     "text": [
      "3.548283267279466\n",
      "3.123989273707072\n",
      "Model  42\n",
      "Network parameters: {'device': device(type='cpu'), 'batch_size': 15, 'dropout': 0.03, 'num_epochs': 400, 'learning_rate': 0.001, 'optimizer': 'adam', 'Nhi1': 10, 'Nhi2': 300, 'reg_param': 0.0001}\n",
      "FOLD  1\n"
     ]
    },
    {
     "name": "stderr",
     "output_type": "stream",
     "text": [
      "100%|████████████████████████████████████████████████████████████████████████████████| 400/400 [01:28<00:00,  4.53it/s]\n"
     ]
    },
    {
     "name": "stdout",
     "output_type": "stream",
     "text": [
      "FOLD  2\n"
     ]
    },
    {
     "name": "stderr",
     "output_type": "stream",
     "text": [
      "100%|████████████████████████████████████████████████████████████████████████████████| 400/400 [01:28<00:00,  4.53it/s]\n"
     ]
    },
    {
     "name": "stdout",
     "output_type": "stream",
     "text": [
      "FOLD  3\n"
     ]
    },
    {
     "name": "stderr",
     "output_type": "stream",
     "text": [
      "100%|████████████████████████████████████████████████████████████████████████████████| 400/400 [01:28<00:00,  4.51it/s]\n"
     ]
    },
    {
     "name": "stdout",
     "output_type": "stream",
     "text": [
      "FOLD  4\n"
     ]
    },
    {
     "name": "stderr",
     "output_type": "stream",
     "text": [
      "100%|████████████████████████████████████████████████████████████████████████████████| 400/400 [01:29<00:00,  4.47it/s]\n"
     ]
    },
    {
     "name": "stdout",
     "output_type": "stream",
     "text": [
      "FOLD  5\n"
     ]
    },
    {
     "name": "stderr",
     "output_type": "stream",
     "text": [
      "100%|████████████████████████████████████████████████████████████████████████████████| 400/400 [01:28<00:00,  4.51it/s]\n"
     ]
    },
    {
     "name": "stdout",
     "output_type": "stream",
     "text": [
      "0.8870420304015278\n",
      "0.8140421995073557\n",
      "Model  43\n",
      "Network parameters: {'device': device(type='cpu'), 'batch_size': 10, 'dropout': 0.01, 'num_epochs': 600, 'learning_rate': 0.01, 'optimizer': 'sgd', 'Nhi1': 50, 'Nhi2': 200, 'reg_param': 0.0005}\n",
      "FOLD  1\n"
     ]
    },
    {
     "name": "stderr",
     "output_type": "stream",
     "text": [
      "100%|████████████████████████████████████████████████████████████████████████████████| 600/600 [02:11<00:00,  4.57it/s]\n"
     ]
    },
    {
     "name": "stdout",
     "output_type": "stream",
     "text": [
      "FOLD  2\n"
     ]
    },
    {
     "name": "stderr",
     "output_type": "stream",
     "text": [
      "100%|████████████████████████████████████████████████████████████████████████████████| 600/600 [02:10<00:00,  4.59it/s]\n"
     ]
    },
    {
     "name": "stdout",
     "output_type": "stream",
     "text": [
      "FOLD  3\n"
     ]
    },
    {
     "name": "stderr",
     "output_type": "stream",
     "text": [
      "100%|████████████████████████████████████████████████████████████████████████████████| 600/600 [02:12<00:00,  4.53it/s]\n"
     ]
    },
    {
     "name": "stdout",
     "output_type": "stream",
     "text": [
      "FOLD  4\n"
     ]
    },
    {
     "name": "stderr",
     "output_type": "stream",
     "text": [
      "100%|████████████████████████████████████████████████████████████████████████████████| 600/600 [02:12<00:00,  4.53it/s]\n"
     ]
    },
    {
     "name": "stdout",
     "output_type": "stream",
     "text": [
      "FOLD  5\n"
     ]
    },
    {
     "name": "stderr",
     "output_type": "stream",
     "text": [
      "100%|████████████████████████████████████████████████████████████████████████████████| 600/600 [02:11<00:00,  4.55it/s]\n"
     ]
    },
    {
     "name": "stdout",
     "output_type": "stream",
     "text": [
      "2.0010550444523494\n",
      "2.075489275286595\n",
      "Model  44\n",
      "Network parameters: {'device': device(type='cpu'), 'batch_size': 10, 'dropout': 0.05, 'num_epochs': 600, 'learning_rate': 0.001, 'optimizer': 'adam', 'Nhi1': 20, 'Nhi2': 100, 'reg_param': 0.0001}\n",
      "FOLD  1\n"
     ]
    },
    {
     "name": "stderr",
     "output_type": "stream",
     "text": [
      "100%|████████████████████████████████████████████████████████████████████████████████| 600/600 [02:24<00:00,  4.15it/s]\n"
     ]
    },
    {
     "name": "stdout",
     "output_type": "stream",
     "text": [
      "FOLD  2\n"
     ]
    },
    {
     "name": "stderr",
     "output_type": "stream",
     "text": [
      "100%|████████████████████████████████████████████████████████████████████████████████| 600/600 [02:24<00:00,  4.16it/s]\n"
     ]
    },
    {
     "name": "stdout",
     "output_type": "stream",
     "text": [
      "FOLD  3\n"
     ]
    },
    {
     "name": "stderr",
     "output_type": "stream",
     "text": [
      "100%|████████████████████████████████████████████████████████████████████████████████| 600/600 [02:23<00:00,  4.18it/s]\n"
     ]
    },
    {
     "name": "stdout",
     "output_type": "stream",
     "text": [
      "FOLD  4\n"
     ]
    },
    {
     "name": "stderr",
     "output_type": "stream",
     "text": [
      "100%|████████████████████████████████████████████████████████████████████████████████| 600/600 [02:22<00:00,  4.22it/s]\n"
     ]
    },
    {
     "name": "stdout",
     "output_type": "stream",
     "text": [
      "FOLD  5\n"
     ]
    },
    {
     "name": "stderr",
     "output_type": "stream",
     "text": [
      "100%|████████████████████████████████████████████████████████████████████████████████| 600/600 [02:23<00:00,  4.19it/s]\n"
     ]
    },
    {
     "name": "stdout",
     "output_type": "stream",
     "text": [
      "0.7080911955436071\n",
      "0.7851530588914951\n",
      "Model  45\n",
      "Network parameters: {'device': device(type='cpu'), 'batch_size': 15, 'dropout': 0.03, 'num_epochs': 400, 'learning_rate': 0.001, 'optimizer': 'adam', 'Nhi1': 50, 'Nhi2': 200, 'reg_param': 0.0003}\n",
      "FOLD  1\n"
     ]
    },
    {
     "name": "stderr",
     "output_type": "stream",
     "text": [
      "100%|████████████████████████████████████████████████████████████████████████████████| 400/400 [01:29<00:00,  4.49it/s]\n"
     ]
    },
    {
     "name": "stdout",
     "output_type": "stream",
     "text": [
      "FOLD  2\n"
     ]
    },
    {
     "name": "stderr",
     "output_type": "stream",
     "text": [
      "100%|████████████████████████████████████████████████████████████████████████████████| 400/400 [01:29<00:00,  4.45it/s]\n"
     ]
    },
    {
     "name": "stdout",
     "output_type": "stream",
     "text": [
      "FOLD  3\n"
     ]
    },
    {
     "name": "stderr",
     "output_type": "stream",
     "text": [
      "100%|████████████████████████████████████████████████████████████████████████████████| 400/400 [01:30<00:00,  4.44it/s]\n"
     ]
    },
    {
     "name": "stdout",
     "output_type": "stream",
     "text": [
      "FOLD  4\n"
     ]
    },
    {
     "name": "stderr",
     "output_type": "stream",
     "text": [
      "100%|████████████████████████████████████████████████████████████████████████████████| 400/400 [01:31<00:00,  4.36it/s]\n"
     ]
    },
    {
     "name": "stdout",
     "output_type": "stream",
     "text": [
      "FOLD  5\n"
     ]
    },
    {
     "name": "stderr",
     "output_type": "stream",
     "text": [
      "100%|████████████████████████████████████████████████████████████████████████████████| 400/400 [01:32<00:00,  4.33it/s]\n"
     ]
    },
    {
     "name": "stdout",
     "output_type": "stream",
     "text": [
      "0.6982430458962917\n",
      "0.7407628118023276\n",
      "Model  46\n",
      "Network parameters: {'device': device(type='cpu'), 'batch_size': 10, 'dropout': 0.03, 'num_epochs': 600, 'learning_rate': 0.001, 'optimizer': 'sgd', 'Nhi1': 10, 'Nhi2': 300, 'reg_param': 0.0005}\n",
      "FOLD  1\n"
     ]
    },
    {
     "name": "stderr",
     "output_type": "stream",
     "text": [
      "100%|████████████████████████████████████████████████████████████████████████████████| 600/600 [02:11<00:00,  4.56it/s]\n"
     ]
    },
    {
     "name": "stdout",
     "output_type": "stream",
     "text": [
      "FOLD  2\n"
     ]
    },
    {
     "name": "stderr",
     "output_type": "stream",
     "text": [
      "100%|████████████████████████████████████████████████████████████████████████████████| 600/600 [02:12<00:00,  4.54it/s]\n"
     ]
    },
    {
     "name": "stdout",
     "output_type": "stream",
     "text": [
      "FOLD  3\n"
     ]
    },
    {
     "name": "stderr",
     "output_type": "stream",
     "text": [
      "100%|████████████████████████████████████████████████████████████████████████████████| 600/600 [02:12<00:00,  4.52it/s]\n"
     ]
    },
    {
     "name": "stdout",
     "output_type": "stream",
     "text": [
      "FOLD  4\n"
     ]
    },
    {
     "name": "stderr",
     "output_type": "stream",
     "text": [
      "100%|████████████████████████████████████████████████████████████████████████████████| 600/600 [02:12<00:00,  4.53it/s]\n"
     ]
    },
    {
     "name": "stdout",
     "output_type": "stream",
     "text": [
      "FOLD  5\n"
     ]
    },
    {
     "name": "stderr",
     "output_type": "stream",
     "text": [
      "100%|████████████████████████████████████████████████████████████████████████████████| 600/600 [02:11<00:00,  4.56it/s]\n"
     ]
    },
    {
     "name": "stdout",
     "output_type": "stream",
     "text": [
      "0.6407161593586207\n",
      "0.6676535501629114\n",
      "Model  47\n",
      "Network parameters: {'device': device(type='cpu'), 'batch_size': 10, 'dropout': 0.05, 'num_epochs': 400, 'learning_rate': 0.001, 'optimizer': 'adam', 'Nhi1': 10, 'Nhi2': 200, 'reg_param': 0.0005}\n",
      "FOLD  1\n"
     ]
    },
    {
     "name": "stderr",
     "output_type": "stream",
     "text": [
      "100%|████████████████████████████████████████████████████████████████████████████████| 400/400 [01:37<00:00,  4.09it/s]\n"
     ]
    },
    {
     "name": "stdout",
     "output_type": "stream",
     "text": [
      "FOLD  2\n"
     ]
    },
    {
     "name": "stderr",
     "output_type": "stream",
     "text": [
      "100%|████████████████████████████████████████████████████████████████████████████████| 400/400 [01:38<00:00,  4.08it/s]\n"
     ]
    },
    {
     "name": "stdout",
     "output_type": "stream",
     "text": [
      "FOLD  3\n"
     ]
    },
    {
     "name": "stderr",
     "output_type": "stream",
     "text": [
      "100%|████████████████████████████████████████████████████████████████████████████████| 400/400 [01:37<00:00,  4.11it/s]\n"
     ]
    },
    {
     "name": "stdout",
     "output_type": "stream",
     "text": [
      "FOLD  4\n"
     ]
    },
    {
     "name": "stderr",
     "output_type": "stream",
     "text": [
      "100%|████████████████████████████████████████████████████████████████████████████████| 400/400 [01:37<00:00,  4.10it/s]\n"
     ]
    },
    {
     "name": "stdout",
     "output_type": "stream",
     "text": [
      "FOLD  5\n"
     ]
    },
    {
     "name": "stderr",
     "output_type": "stream",
     "text": [
      "100%|████████████████████████████████████████████████████████████████████████████████| 400/400 [01:37<00:00,  4.09it/s]\n"
     ]
    },
    {
     "name": "stdout",
     "output_type": "stream",
     "text": [
      "0.8714039433076978\n",
      "0.9584176228046417\n",
      "Model  48\n",
      "Network parameters: {'device': device(type='cpu'), 'batch_size': 5, 'dropout': 0.01, 'num_epochs': 400, 'learning_rate': 0.001, 'optimizer': 'adam', 'Nhi1': 50, 'Nhi2': 300, 'reg_param': 0.0001}\n",
      "FOLD  1\n"
     ]
    },
    {
     "name": "stderr",
     "output_type": "stream",
     "text": [
      "100%|████████████████████████████████████████████████████████████████████████████████| 400/400 [02:29<00:00,  2.68it/s]\n"
     ]
    },
    {
     "name": "stdout",
     "output_type": "stream",
     "text": [
      "FOLD  2\n"
     ]
    },
    {
     "name": "stderr",
     "output_type": "stream",
     "text": [
      "100%|████████████████████████████████████████████████████████████████████████████████| 400/400 [02:27<00:00,  2.71it/s]\n"
     ]
    },
    {
     "name": "stdout",
     "output_type": "stream",
     "text": [
      "FOLD  3\n"
     ]
    },
    {
     "name": "stderr",
     "output_type": "stream",
     "text": [
      "100%|████████████████████████████████████████████████████████████████████████████████| 400/400 [02:27<00:00,  2.72it/s]\n"
     ]
    },
    {
     "name": "stdout",
     "output_type": "stream",
     "text": [
      "FOLD  4\n"
     ]
    },
    {
     "name": "stderr",
     "output_type": "stream",
     "text": [
      "100%|████████████████████████████████████████████████████████████████████████████████| 400/400 [02:32<00:00,  2.63it/s]\n"
     ]
    },
    {
     "name": "stdout",
     "output_type": "stream",
     "text": [
      "FOLD  5\n"
     ]
    },
    {
     "name": "stderr",
     "output_type": "stream",
     "text": [
      "100%|████████████████████████████████████████████████████████████████████████████████| 400/400 [02:26<00:00,  2.73it/s]\n"
     ]
    },
    {
     "name": "stdout",
     "output_type": "stream",
     "text": [
      "0.5596274136975408\n",
      "0.4768626861199737\n",
      "Model  49\n",
      "Network parameters: {'device': device(type='cpu'), 'batch_size': 10, 'dropout': 0.03, 'num_epochs': 600, 'learning_rate': 0.001, 'optimizer': 'sgd', 'Nhi1': 20, 'Nhi2': 100, 'reg_param': 0.0001}\n",
      "FOLD  1\n"
     ]
    },
    {
     "name": "stderr",
     "output_type": "stream",
     "text": [
      "100%|████████████████████████████████████████████████████████████████████████████████| 600/600 [02:10<00:00,  4.61it/s]\n"
     ]
    },
    {
     "name": "stdout",
     "output_type": "stream",
     "text": [
      "FOLD  2\n"
     ]
    },
    {
     "name": "stderr",
     "output_type": "stream",
     "text": [
      "100%|████████████████████████████████████████████████████████████████████████████████| 600/600 [02:09<00:00,  4.62it/s]\n"
     ]
    },
    {
     "name": "stdout",
     "output_type": "stream",
     "text": [
      "FOLD  3\n"
     ]
    },
    {
     "name": "stderr",
     "output_type": "stream",
     "text": [
      "100%|████████████████████████████████████████████████████████████████████████████████| 600/600 [02:09<00:00,  4.64it/s]\n"
     ]
    },
    {
     "name": "stdout",
     "output_type": "stream",
     "text": [
      "FOLD  4\n"
     ]
    },
    {
     "name": "stderr",
     "output_type": "stream",
     "text": [
      "100%|████████████████████████████████████████████████████████████████████████████████| 600/600 [02:08<00:00,  4.66it/s]\n"
     ]
    },
    {
     "name": "stdout",
     "output_type": "stream",
     "text": [
      "FOLD  5\n"
     ]
    },
    {
     "name": "stderr",
     "output_type": "stream",
     "text": [
      "100%|████████████████████████████████████████████████████████████████████████████████| 600/600 [02:08<00:00,  4.69it/s]\n"
     ]
    },
    {
     "name": "stdout",
     "output_type": "stream",
     "text": [
      "0.704092388505737\n",
      "0.7283363588203986\n",
      "Model  50\n",
      "Network parameters: {'device': device(type='cpu'), 'batch_size': 10, 'dropout': 0.03, 'num_epochs': 400, 'learning_rate': 0.001, 'optimizer': 'sgd', 'Nhi1': 20, 'Nhi2': 200, 'reg_param': 0.0001}\n",
      "FOLD  1\n"
     ]
    },
    {
     "name": "stderr",
     "output_type": "stream",
     "text": [
      "100%|████████████████████████████████████████████████████████████████████████████████| 400/400 [01:27<00:00,  4.59it/s]\n"
     ]
    },
    {
     "name": "stdout",
     "output_type": "stream",
     "text": [
      "FOLD  2\n"
     ]
    },
    {
     "name": "stderr",
     "output_type": "stream",
     "text": [
      "100%|████████████████████████████████████████████████████████████████████████████████| 400/400 [01:26<00:00,  4.60it/s]\n"
     ]
    },
    {
     "name": "stdout",
     "output_type": "stream",
     "text": [
      "FOLD  3\n"
     ]
    },
    {
     "name": "stderr",
     "output_type": "stream",
     "text": [
      "100%|████████████████████████████████████████████████████████████████████████████████| 400/400 [01:27<00:00,  4.59it/s]\n"
     ]
    },
    {
     "name": "stdout",
     "output_type": "stream",
     "text": [
      "FOLD  4\n"
     ]
    },
    {
     "name": "stderr",
     "output_type": "stream",
     "text": [
      "100%|████████████████████████████████████████████████████████████████████████████████| 400/400 [01:27<00:00,  4.58it/s]\n"
     ]
    },
    {
     "name": "stdout",
     "output_type": "stream",
     "text": [
      "FOLD  5\n"
     ]
    },
    {
     "name": "stderr",
     "output_type": "stream",
     "text": [
      "100%|████████████████████████████████████████████████████████████████████████████████| 400/400 [01:27<00:00,  4.59it/s]"
     ]
    },
    {
     "name": "stdout",
     "output_type": "stream",
     "text": [
      "0.6863734778538346\n",
      "0.7784237896203995\n"
     ]
    },
    {
     "name": "stderr",
     "output_type": "stream",
     "text": [
      "\n"
     ]
    }
   ],
   "source": [
    "params_dict = {\"device\"        : [device],\n",
    "          \"batch_size\"    : [5, 10, 15],\n",
    "          \"dropout\"       : [0.01, 0.03,  0.05],\n",
    "          \"num_epochs\"    : [400, 600],\n",
    "          \"learning_rate\" : [0.01, 0.001],\n",
    "          \"optimizer\"     : ['sgd', 'adam'],\n",
    "          \"Nhi1\"          : [10, 20, 50],\n",
    "          \"Nhi2\"          : [100, 200, 300],\n",
    "          \"reg_param\"     : [0.0001, 0.0003, 0.0005]\n",
    "          }\n",
    "\n",
    "\n",
    "model_params, train_loss_kf, val_loss_kf = cross_validation(params_dict, train_dataset, num_folds=5, n_models=50)\n"
   ]
  },
  {
   "cell_type": "code",
   "execution_count": 11,
   "id": "d29f17ff",
   "metadata": {},
   "outputs": [
    {
     "name": "stdout",
     "output_type": "stream",
     "text": [
      "Best network parameters: {'device': device(type='cpu'), 'batch_size': 15, 'dropout': 0.01, 'num_epochs': 600, 'learning_rate': 0.01, 'optimizer': 'adam', 'Nhi1': 10, 'Nhi2': 300, 'reg_param': 0.0005} 0.44631165446341037\n"
     ]
    },
    {
     "name": "stderr",
     "output_type": "stream",
     "text": [
      "100%|████████████████████████████████████████████████████████████████████████████████| 600/600 [03:40<00:00,  2.72it/s]\n"
     ]
    },
    {
     "data": {
      "text/plain": [
       "<matplotlib.legend.Legend at 0x1d2f0c4c6c8>"
      ]
     },
     "execution_count": 11,
     "metadata": {},
     "output_type": "execute_result"
    },
    {
     "data": {
      "image/png": "[encoded data removed]",
      "text/plain": [
       "<Figure size 720x432 with 1 Axes>"
      ]
     },
     "metadata": {
      "needs_background": "light"
     },
     "output_type": "display_data"
    }
   ],
   "source": [
    "# Best model\n",
    "best_params = model_params[np.argmin(val_loss_kf)]\n",
    "print('Best network parameters:', best_params,val_loss_kf[np.argmin(val_loss_kf)])\n",
    "\n",
    "b_size = int(best_params['batch_size'])\n",
    "# train dataloaders\n",
    "train_dataloader = Data.DataLoader(train_dataset, batch_size=b_size, shuffle=True)\n",
    "#test dataloader \n",
    "val_dataloader  = Data.DataLoader(test_dataset, batch_size=len(test_dataset), shuffle=False)\n",
    "loss_func = nn.MSELoss()  \n",
    "# initialization of the net\n",
    "Ninp, Nhi1, Nhi2, Nout = 1, best_params['Nhi1'], best_params['Nhi2'], 1\n",
    "model = Model(Ninp, Nhi1, Nhi2, Nout, best_params['dropout']).to(device)\n",
    "\n",
    "# select and set up optimizer\n",
    "if best_params['optimizer']=='sgd':\n",
    "    optimizer = optim.SGD(model.parameters(), lr=best_params['learning_rate'], momentum=0.9,\n",
    "                   weight_decay=best_params['reg_param'])\n",
    "elif best_params['optimizer']=='adam':\n",
    "    optimizer = optim.Adam(model.parameters(), lr=best_params['learning_rate'], \n",
    "                     weight_decay=best_params['reg_param'])\n",
    "        \n",
    "\n",
    "best_train_loss, best_val_loss = model.fitting(train_dataloader, val_dataloader, optimizer, \n",
    "                                                        loss_func, best_params)\n",
    "\n",
    "fig, ax = plt.subplots(figsize=(10,6))\n",
    "\n",
    "ax.set_xlabel('Epoch', fontsize=24)\n",
    "ax.set_ylabel('Loss', fontsize=24)\n",
    "\n",
    "plt.plot(best_train_loss, label='train')\n",
    "plt.plot(best_val_loss, label='test')\n",
    "plt.legend(fontsize=16)"
   ]
  },
  {
   "cell_type": "code",
   "execution_count": 12,
   "id": "835e398f",
   "metadata": {},
   "outputs": [
    {
     "data": {
      "image/png": "[encoded data removed]",
      "text/plain": [
       "<Figure size 720x432 with 1 Axes>"
      ]
     },
     "metadata": {
      "needs_background": "light"
     },
     "output_type": "display_data"
    },
    {
     "data": {
      "text/plain": [
       "<Figure size 432x288 with 0 Axes>"
      ]
     },
     "metadata": {},
     "output_type": "display_data"
    }
   ],
   "source": [
    "# training dataset: convert to tensors and use Variable from torch.autograd\n",
    "x = torch.unsqueeze(torch.tensor(train_df.input), dim=1).float()\n",
    "y = torch.unsqueeze(torch.tensor(train_df.label), dim=1).float()\n",
    "\n",
    "x_pred = torch.linspace(-5,5,1000)\n",
    "x_pred = x_pred.to(device)\n",
    "x_pred = x_pred.unsqueeze(-1)\n",
    "\n",
    "model.to(device)\n",
    "\n",
    "fig, ax = plt.subplots(figsize=(10,6))\n",
    "\n",
    "plt.cla()\n",
    "ax.set_title('Regression Analysis - Best Network', fontsize=30)\n",
    "ax.set_xlabel('x', fontsize=24)\n",
    "ax.set_ylabel('f(x)', fontsize=24)\n",
    "ax.set_xlim(-5, 5)\n",
    "ax.set_ylim(-5, 10)\n",
    "\n",
    "ax.scatter(train_df.input, train_df.label, color = 'y',label='Training points')\n",
    "prediction = model(x)     \n",
    "with torch.no_grad():\n",
    "    y_pred = model(x_pred)\n",
    "\n",
    "ax.plot(x_pred.squeeze().cpu().numpy(), y_pred.squeeze().cpu().numpy(), 'b--',label='Best Predicted function')\n",
    "ax.scatter(x.data.numpy(), prediction.data.numpy(), color = 'r', marker = 'x', label='Best Predicted training points')\n",
    "plt.legend(loc='best')\n",
    "plt.show()\n",
    "plt.savefig('best_net_fitting.png')"
   ]
  },
  {
   "cell_type": "code",
   "execution_count": 13,
   "id": "287d16e1",
   "metadata": {},
   "outputs": [
    {
     "name": "stderr",
     "output_type": "stream",
     "text": [
      "100%|████████████████████████████████████████████████████████████████████████████████████| 1/1 [00:00<00:00,  6.38it/s]\n"
     ]
    },
    {
     "name": "stdout",
     "output_type": "stream",
     "text": [
      "Average testing loss for the best network: 0.1336599\n"
     ]
    },
    {
     "data": {
      "image/png": "[encoded data removed]",
      "text/plain": [
       "<Figure size 720x432 with 1 Axes>"
      ]
     },
     "metadata": {
      "needs_background": "light"
     },
     "output_type": "display_data"
    }
   ],
   "source": [
    "model_state_dict = model.state_dict()\n",
    "torch.save(model_state_dict, 'best_model_parameters_reg.torch')\n",
    "torch.save(optimizer.state_dict(), 'optimizer_state_reg.torch')\n",
    "\n",
    "####### Best networks testing\n",
    "### Reload the network state\n",
    "\n",
    "top_model = Model(1, best_params['Nhi1'], best_params['Nhi2'], 1, best_params['dropout'])\n",
    "# Reload the optimizer state\n",
    "if best_params['optimizer']=='sgd':\n",
    "    optimizer = optim.SGD(top_model.parameters(), lr=best_params['learning_rate'], momentum=0.9,\n",
    "                   weight_decay=best_net['reg_param'])\n",
    "elif best_params['optimizer']=='adam':\n",
    "    optimizer = optim.Adam(top_model.parameters(), lr=best_params['learning_rate'], \n",
    "                     weight_decay=best_params['reg_param'])\n",
    "# Load the state dict previously saved\n",
    "model_state = torch.load(\"best_model_parameters_reg.torch\")\n",
    "# Update the network parameters\n",
    "top_model.load_state_dict(model_state)\n",
    "opt_state_dict = torch.load( 'optimizer_state_reg.torch')\n",
    "optimizer.load_state_dict(opt_state_dict)\n",
    "\n",
    "\n",
    "loss_func = nn.MSELoss()\n",
    "final_test_loss = top_model.testing(test_dataloader, loss_func, device)\n",
    "print('Average testing loss for the best network:', final_test_loss)\n",
    "# for plotting the predicted function\n",
    "x_pred = torch.linspace(-5,5,1000)\n",
    "x_pred = x_pred.to(device)\n",
    "x_pred = x_pred.unsqueeze(-1)\n",
    "\n",
    "top_model.to(device)\n",
    "\n",
    "fig, ax = plt.subplots(figsize=(10,6))\n",
    "\n",
    "plt.cla()\n",
    "ax.set_title('Testing - best network', fontsize=30)\n",
    "ax.set_xlabel('x', fontsize=24)\n",
    "ax.set_ylabel('f(x)', fontsize=24)\n",
    "ax.set_xlim(-5, 5)\n",
    "ax.set_ylim(-5, 10)\n",
    "\n",
    "ax.scatter(train_df.input, train_df.label, color = 'y', label='Training points')\n",
    "ax.scatter(test_df.input, test_df.label, color = 'orange', label='Test points')\n",
    "\n",
    "prediction = top_model(x)  \n",
    "# Network output\n",
    "with torch.no_grad():\n",
    "    y_pred = top_model(x_pred)\n",
    "\n",
    "ax.plot(x_pred.squeeze().cpu().numpy(), y_pred.squeeze().cpu().numpy(), 'b--', label='Predicted function')\n",
    "ax.scatter(x.data.numpy(), prediction.data.numpy(), color = 'r', marker = 'x', label='Predicted training points')\n",
    "plt.legend(loc='best')\n",
    "plt.savefig('best_net_testing.png')\n",
    "plt.show()"
   ]
  },
  {
   "cell_type": "code",
   "execution_count": 14,
   "id": "829c0a3f",
   "metadata": {},
   "outputs": [
    {
     "data": {
      "image/png": "[encoded data removed]",
      "text/plain": [
       "<Figure size 864x576 with 3 Axes>"
      ]
     },
     "metadata": {
      "needs_background": "light"
     },
     "output_type": "display_data"
    }
   ],
   "source": [
    "#####  Weight Analysis\n",
    "# First hidden layer\n",
    "h1_w = top_model.hl1.weight.data.cpu().numpy()\n",
    "h1_b = top_model.hl1.bias.data.cpu().numpy()\n",
    "# Second hidden layer\n",
    "h2_w = top_model.hl2.weight.data.cpu().numpy()\n",
    "h2_b = top_model.hl2.bias.data.cpu().numpy()\n",
    "# Output layer\n",
    "out_w = top_model.out.weight.data.cpu().numpy()\n",
    "out_b = top_model.out.bias.data.cpu().numpy()\n",
    "\n",
    "\n",
    "# Weights histogram\n",
    "fig, axs = plt.subplots(3, 1, figsize=(12,8))\n",
    "axs[0].hist(h1_w.flatten(), 50)\n",
    "axs[0].set_title('First hidden layer weights')\n",
    "axs[1].hist(h2_w.flatten(), 50)\n",
    "axs[1].set_title('Second hidden layer weights')\n",
    "axs[2].hist(out_w.flatten(), 50)\n",
    "axs[2].set_title('Output layer weights')\n",
    "[ax.grid() for ax in axs]\n",
    "plt.tight_layout()\n",
    "plt.show()"
   ]
  },
  {
   "cell_type": "code",
   "execution_count": 15,
   "id": "ef2e8892",
   "metadata": {},
   "outputs": [
    {
     "name": "stdout",
     "output_type": "stream",
     "text": [
      "torch.Size([10])\n",
      "torch.Size([300])\n",
      "torch.Size([1])\n"
     ]
    },
    {
     "data": {
      "image/png": "[encoded data removed]",
      "text/plain": [
       "<Figure size 864x576 with 3 Axes>"
      ]
     },
     "metadata": {
      "needs_background": "light"
     },
     "output_type": "display_data"
    }
   ],
   "source": [
    "##### Activations Analysis \n",
    "activation = {}\n",
    "def get_activation(name):\n",
    "    def hook(model, input, output):\n",
    "        activation[name] = output.detach()\n",
    "    return hook\n",
    "# Register hook\n",
    "handle_hook_hl1 = top_model.hl1.register_forward_hook(get_activation('hl1'))\n",
    "handle_hook_hl2 = top_model.hl2.register_forward_hook(get_activation('hl2'))\n",
    "handle_hook_out = top_model.out.register_forward_hook(get_activation('out'))\n",
    "\n",
    "x = torch.tensor([-2]).float()\n",
    "\n",
    "\n",
    "with torch.no_grad():\n",
    "    y = top_model(x)\n",
    "    \n",
    "print(activation['hl1'].size())\n",
    "print(activation['hl2'].size())\n",
    "print(activation['out'].size())\n",
    "\n",
    "# Remove hook\n",
    "handle_hook_hl1 .remove()\n",
    "handle_hook_hl2 .remove()\n",
    "handle_hook_out .remove()\n",
    "\n",
    "fig, axs = plt.subplots(3, 1, figsize=(12,8))\n",
    "axs[0].stem(torch.relu(activation['hl1']).cpu().numpy(), use_line_collection=True)\n",
    "axs[0].set_title('First layer activations for input x=-2 ')\n",
    "axs[1].stem(torch.relu(activation['hl2']).cpu().numpy(), use_line_collection=True)\n",
    "axs[1].set_title('Second layer activations for input x=-2')\n",
    "axs[2].stem(torch.relu(activation['out']).cpu().numpy(), use_line_collection=True)\n",
    "axs[2].set_title('Out layer activations for input x=-2')\n",
    "plt.tight_layout()\n",
    "plt.show()\n",
    "\n"
   ]
  },
  {
   "cell_type": "code",
   "execution_count": 16,
   "id": "8564e518",
   "metadata": {},
   "outputs": [
    {
     "name": "stdout",
     "output_type": "stream",
     "text": [
      "torch.Size([10])\n",
      "torch.Size([300])\n",
      "torch.Size([1])\n"
     ]
    },
    {
     "data": {
      "image/png": "[encoded data removed]",
      "text/plain": [
       "<Figure size 864x576 with 3 Axes>"
      ]
     },
     "metadata": {
      "needs_background": "light"
     },
     "output_type": "display_data"
    }
   ],
   "source": [
    "handle_hook_hl1 = top_model.hl1.register_forward_hook(get_activation('hl1'))\n",
    "handle_hook_hl2 = top_model.hl2.register_forward_hook(get_activation('hl2'))\n",
    "handle_hook_out = top_model.out.register_forward_hook(get_activation('out'))\n",
    "\n",
    "x = torch.tensor([4]).float()\n",
    "\n",
    "\n",
    "with torch.no_grad():\n",
    "    y = top_model(x)\n",
    "    \n",
    "print(activation['hl1'].size())\n",
    "print(activation['hl2'].size())\n",
    "print(activation['out'].size())\n",
    "handle_hook_hl1 .remove()\n",
    "handle_hook_hl2 .remove()\n",
    "handle_hook_out .remove()\n",
    "\n",
    "fig, axs = plt.subplots(3, 1, figsize=(12,8))\n",
    "axs[0].stem(torch.relu(activation['hl1']).cpu().numpy(), use_line_collection=True)\n",
    "axs[0].set_title('First layer activations for input x=4 ')\n",
    "axs[1].stem(torch.relu(activation['hl2']).cpu().numpy(), use_line_collection=True)\n",
    "axs[1].set_title('Second layer activations for input x=4')\n",
    "axs[2].stem(torch.relu(activation['out']).cpu().numpy(), use_line_collection=True)\n",
    "axs[2].set_title('Out layer activations for input x=4')\n",
    "plt.tight_layout()\n",
    "plt.show()\n",
    "\n"
   ]
  },
  {
   "cell_type": "code",
   "execution_count": null,
   "id": "811ccbf8",
   "metadata": {},
   "outputs": [],
   "source": []
  }
 ],
 "metadata": {
  "kernelspec": {
   "display_name": "Python 3 (ipykernel)",
   "language": "python",
   "name": "python3"
  },
  "language_info": {
   "codemirror_mode": {
    "name": "ipython",
    "version": 3
   },
   "file_extension": ".py",
   "mimetype": "text/x-python",
   "name": "python",
   "nbconvert_exporter": "python",
   "pygments_lexer": "ipython3",
   "version": "3.7.13"
  }
 },
 "nbformat": 4,
 "nbformat_minor": 5
}
